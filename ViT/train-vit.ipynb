{
 "cells": [
  {
   "cell_type": "code",
   "execution_count": 1,
   "id": "e80d01a9",
   "metadata": {},
   "outputs": [],
   "source": [
    "import torch\n",
    "import torch.nn as nn\n",
    "import torch.nn.functional as F\n",
    "from torch.utils.data import Dataset, DataLoader\n",
    "import numpy as np\n",
    "import os\n",
    "import glob\n",
    "from PIL import Image\n",
    "from sklearn.model_selection import train_test_split\n",
    "import torchvision\n",
    "from torchvision import datasets, transforms\n",
    "from tqdm.notebook import tqdm\n",
    "from tensorboardX import SummaryWriter\n",
    "from torch.optim.lr_scheduler import LambdaLR, StepLR"
   ]
  },
  {
   "cell_type": "code",
   "execution_count": 2,
   "id": "c2a4d71d",
   "metadata": {},
   "outputs": [],
   "source": [
    "device = torch.device('cuda' if torch.cuda.is_available() else 'cpu')"
   ]
  },
  {
   "cell_type": "code",
   "execution_count": 3,
   "id": "59885576",
   "metadata": {},
   "outputs": [],
   "source": [
    "class Config:\n",
    "\n",
    "    batch_size = 64\n",
    "    epochs = 300\n",
    "    lr = 1e-3\n",
    "    \n",
    "    channel = 3\n",
    "\n",
    "    height = 32\n",
    "    width = 32\n",
    "\n",
    "    data_root = '../dataset/cifar10'\n",
    "\n",
    "    dropout_rate = 0.1\n",
    "    attn_dropout = 0\n",
    "\n",
    "    patch_size = 4\n",
    "    num_patches = int((height * width) / (patch_size ** 2))\n",
    "\n",
    "    layers = 12\n",
    "#     embedding_d = 768\n",
    "    embedding_d = 512\n",
    "    mlp_size = 1024\n",
    "    heads = 8\n",
    "    \n",
    "    dimhead = 512\n",
    "\n",
    "    num_classes = 10\n",
    "    \n",
    "    log_f = 100"
   ]
  },
  {
   "cell_type": "code",
   "execution_count": 4,
   "id": "39a5d1f0",
   "metadata": {},
   "outputs": [],
   "source": [
    "transform = transforms.Compose([\n",
    "    transforms.RandomHorizontalFlip(),\n",
    "    transforms.RandomCrop(32, padding=4),\n",
    "    transforms.ToTensor(),\n",
    "])"
   ]
  },
  {
   "cell_type": "code",
   "execution_count": 5,
   "id": "8b9efd6b",
   "metadata": {
    "scrolled": true
   },
   "outputs": [
    {
     "name": "stdout",
     "output_type": "stream",
     "text": [
      "Files already downloaded and verified\n",
      "Files already downloaded and verified\n"
     ]
    }
   ],
   "source": [
    "trainset = torchvision.datasets.CIFAR10(root=Config.data_root, train=True,\n",
    "                                        download=True, transform=transform)\n",
    "trainloader = torch.utils.data.DataLoader(trainset, batch_size=Config.batch_size,\n",
    "                                          shuffle=True, num_workers=2)\n",
    "\n",
    "testset = torchvision.datasets.CIFAR10(root=Config.data_root, train=False,\n",
    "                                       download=True, transform=transforms.ToTensor())\n",
    "testloader = torch.utils.data.DataLoader(testset, batch_size=Config.batch_size,\n",
    "                                         shuffle=False, num_workers=2)"
   ]
  },
  {
   "cell_type": "code",
   "execution_count": 7,
   "id": "c9cff5d9",
   "metadata": {},
   "outputs": [],
   "source": [
    "class Model(nn.Module):\n",
    "    \n",
    "    def __init__(self):\n",
    "        super(Model, self).__init__()\n",
    "        \n",
    "        self.num_patches = (Config.height * Config.width) // Config.patch_size ** 2\n",
    "        self.patch_d = Config.channel * Config.patch_size * Config.patch_size\n",
    "        \n",
    "        self.patch_embedding = PatchEmbedding()\n",
    "        self.class_token = nn.Parameter(torch.randn(1, 1, Config.embedding_d), requires_grad=True)\n",
    "        self.position_embedding = nn.Parameter(torch.randn(1, Config.num_patches + 1, Config.embedding_d), requires_grad=True)\n",
    "        self.cls_token = nn.Parameter(torch.randn(1, 1, Config.dimhead))\n",
    "        self.dropout = nn.Dropout(Config.dropout_rate)\n",
    "        \n",
    "        self.transformer = Transformer()\n",
    "\n",
    "        self.mlp_head = nn.Sequential(\n",
    "            nn.LayerNorm(Config.dimhead),\n",
    "            nn.Linear(Config.dimhead, Config.num_classes))\n",
    "        \n",
    "        \n",
    "    def forward(self, x):\n",
    "        x = self.patch_embedding(x)\n",
    "        class_token = self.class_token.expand(Config.batch_size, -1, -1)\n",
    "        x = torch.cat((class_token, x), dim=1)\n",
    "        x = self.position_embedding + x\n",
    "        x = self.dropout(x)\n",
    "        \n",
    "        x = self.transformer(x)\n",
    "        \n",
    "        x = x[:, 0]\n",
    "\n",
    "        x = self.mlp_head(x)\n",
    "        \n",
    "        return x\n",
    "    \n",
    "    \n",
    "class Transformer(nn.Module):\n",
    "    def __init__(self, dim=Config.dimhead, mlp_dim=512):\n",
    "        super().__init__()\n",
    "        \n",
    "        self.layers = nn.ModuleList([])\n",
    "        for _ in range(Config.layers):\n",
    "            self.layers.append(nn.ModuleList([MABlock(), FeedForward()]))\n",
    "                               \n",
    "    def forward(self, x):\n",
    "        \n",
    "        for attn, ff in self.layers:\n",
    "            x = attn(x) + x\n",
    "            x = ff(x) + x\n",
    "            \n",
    "        return x\n",
    "    \n",
    "class MABlock(nn.Module):\n",
    "\n",
    "    def __init__(self):\n",
    "        super(MABlock, self).__init__()\n",
    "\n",
    "        self.layer_norm = nn.LayerNorm(Config.embedding_d)\n",
    "        self.multihead_attention = nn.MultiheadAttention(Config.embedding_d, Config.heads, Config.attn_dropout, batch_first=True)\n",
    "\n",
    "    def forward(self, x):\n",
    "        x = self.layer_norm(x)\n",
    "        x, _ = self.multihead_attention(x, x, x, need_weights=False)\n",
    "\n",
    "        return x\n",
    "        \n",
    "        \n",
    "class PatchEmbedding(nn.Module):\n",
    "\n",
    "    def __init__(self):\n",
    "        super(PatchEmbedding, self).__init__()\n",
    "\n",
    "        self.conv = nn.Conv2d(in_channels=Config.channel,\n",
    "                              out_channels=Config.embedding_d,\n",
    "                              kernel_size=Config.patch_size,\n",
    "                              stride=Config.patch_size)\n",
    "\n",
    "        self.flatten = nn.Flatten(start_dim=2, end_dim=3)\n",
    "\n",
    "    def forward(self, x):\n",
    "        x = self.conv(x)  # ([b, 768, 4, 4])\n",
    "        x = self.flatten(x)  # ([b, 768, 16])\n",
    "\n",
    "        return x.permute(0, 2, 1)\n",
    "        \n",
    "        \n",
    "class FeedForward(nn.Module):\n",
    "    \n",
    "    def __init__(self):\n",
    "        super(FeedForward, self).__init__()\n",
    "\n",
    "        self.layer_norm = nn.LayerNorm(Config.embedding_d)\n",
    "        self.mlp = nn.Sequential(\n",
    "            nn.Linear(Config.embedding_d, Config.mlp_size),\n",
    "            nn.GELU(),\n",
    "            nn.Dropout(Config.dropout_rate),\n",
    "            nn.Linear(Config.mlp_size, Config.embedding_d),\n",
    "            nn.Dropout(Config.dropout_rate)\n",
    "        )\n",
    "\n",
    "    def forward(self, x):\n",
    "        x = self.layer_norm(x)\n",
    "        x = self.mlp(x)\n",
    "\n",
    "        return x"
   ]
  },
  {
   "cell_type": "code",
   "execution_count": 8,
   "id": "4b7c76fc",
   "metadata": {},
   "outputs": [],
   "source": [
    "model = Model().to(device)\n",
    "optimizer = torch.optim.Adam(model.parameters(), lr=Config.lr)\n",
    "criterion = nn.CrossEntropyLoss()"
   ]
  },
  {
   "cell_type": "code",
   "execution_count": 9,
   "id": "e811aa70",
   "metadata": {},
   "outputs": [],
   "source": [
    "scheduler = StepLR(optimizer, 5)"
   ]
  },
  {
   "cell_type": "code",
   "execution_count": 10,
   "id": "dcb8e386",
   "metadata": {},
   "outputs": [],
   "source": [
    "warmup_scheduler = LambdaLR(optimizer, lr_lambda=lambda step: min(1.0, step / 10000))\n",
    "step_scheduler = StepLR(optimizer, step_size=5, gamma=.9)"
   ]
  },
  {
   "cell_type": "code",
   "execution_count": 11,
   "id": "8554272d",
   "metadata": {},
   "outputs": [],
   "source": [
    "writer = SummaryWriter()"
   ]
  },
  {
   "cell_type": "code",
   "execution_count": 12,
   "id": "e61f0078",
   "metadata": {},
   "outputs": [],
   "source": [
    "def test(epoch):\n",
    "\n",
    "    model.eval()\n",
    "    \n",
    "    test_loss = 0\n",
    "    correct = 0\n",
    "    total = 0\n",
    "    \n",
    "    with torch.no_grad():\n",
    "        \n",
    "        for batch_idx, (inputs, targets) in enumerate(tqdm(testloader)):\n",
    "            \n",
    "            if Config.batch_size != len(inputs):\n",
    "                inputs = inputs.repeat(Config.batch_size // inputs.size(0) + 1, 1, 1, 1)[:Config.batch_size]\n",
    "                targets = targets.repeat(Config.batch_size // targets.size(0) + 1)[:Config.batch_size]\n",
    "            \n",
    "            inputs, targets = inputs.to(device), targets.to(device)\n",
    "            \n",
    "            outputs = model(inputs)\n",
    "            loss = criterion(outputs, targets)\n",
    "\n",
    "            test_loss += loss.item()\n",
    "            _, predicted = outputs.max(1)\n",
    "            total += targets.size(0)\n",
    "            correct += predicted.eq(targets).sum().item()\n",
    "\n",
    "    acc = 100. * correct / total\n",
    "\n",
    "    print(f'Epoch {epoch} val loss: {test_loss:.5f}, test acc: {(acc):.5f}')\n",
    "\n",
    "    return test_loss, acc"
   ]
  },
  {
   "cell_type": "code",
   "execution_count": 13,
   "id": "32bea229",
   "metadata": {},
   "outputs": [],
   "source": [
    "def train(epoch):\n",
    "    \n",
    "    model.train()\n",
    "    \n",
    "    train_loss = 0\n",
    "    correct = 0\n",
    "    total = 0\n",
    "    \n",
    "    for batch_idx, (inputs, targets) in enumerate(tqdm(trainloader)):\n",
    "        \n",
    "        if Config.batch_size != len(inputs):\n",
    "            inputs = inputs.repeat(Config.batch_size // inputs.size(0) + 1, 1, 1, 1)[:Config.batch_size]\n",
    "            targets = targets.repeat(Config.batch_size // targets.size(0) + 1)[:Config.batch_size]\n",
    "        \n",
    "        inputs, targets = inputs.to(device), targets.to(device)\n",
    "        \n",
    "        outputs = model(inputs)\n",
    "        loss = criterion(outputs, targets)\n",
    "        \n",
    "        optimizer.zero_grad()\n",
    "        loss.backward()\n",
    "        optimizer.step()\n",
    "\n",
    "        train_loss += loss.item()\n",
    "        _, predicted = outputs.max(1)\n",
    "        total += targets.size(0)\n",
    "        correct += predicted.eq(targets).sum().item()\n",
    "        \n",
    "        acc = 100.*correct/total\n",
    "        \n",
    "        if batch_idx % Config.log_f == 0:\n",
    "            print(f'Epoch {epoch}, batch index {batch_idx} || train loss: {train_loss/(batch_idx+1)}, train acc: {acc}')\n",
    "\n",
    "    return train_loss/(batch_idx+1), acc"
   ]
  },
  {
   "cell_type": "code",
   "execution_count": null,
   "id": "0179c749",
   "metadata": {
    "scrolled": true
   },
   "outputs": [
    {
     "data": {
      "application/vnd.jupyter.widget-view+json": {
       "model_id": "80809e3c769a4df09d948d1cbfbcf459",
       "version_major": 2,
       "version_minor": 0
      },
      "text/plain": [
       "  0%|          | 0/782 [00:00<?, ?it/s]"
      ]
     },
     "metadata": {},
     "output_type": "display_data"
    },
    {
     "name": "stdout",
     "output_type": "stream",
     "text": [
      "Epoch 0, batch index 0 || train loss: 2.5789201259613037, train acc: 7.8125\n",
      "Epoch 0, batch index 100 || train loss: 2.471000834266738, train acc: 10.055693069306932\n",
      "Epoch 0, batch index 200 || train loss: 2.4677635686314523, train acc: 10.051305970149254\n",
      "Epoch 0, batch index 300 || train loss: 2.464347756186197, train acc: 10.101744186046512\n",
      "Epoch 0, batch index 400 || train loss: 2.464761009240091, train acc: 9.955579800498754\n",
      "Epoch 0, batch index 500 || train loss: 2.4635067419139687, train acc: 10.04553393213573\n",
      "Epoch 0, batch index 600 || train loss: 2.462752358092246, train acc: 10.004159733777039\n",
      "Epoch 0, batch index 700 || train loss: 2.4627684104799714, train acc: 10.065977175463624\n"
     ]
    },
    {
     "data": {
      "application/vnd.jupyter.widget-view+json": {
       "model_id": "cb249360d0a041979f1845ebd735c2fb",
       "version_major": 2,
       "version_minor": 0
      },
      "text/plain": [
       "  0%|          | 0/157 [00:00<?, ?it/s]"
      ]
     },
     "metadata": {},
     "output_type": "display_data"
    },
    {
     "name": "stdout",
     "output_type": "stream",
     "text": [
      "Epoch 0 val loss: 385.68193, test acc: 9.95223\n"
     ]
    },
    {
     "data": {
      "application/vnd.jupyter.widget-view+json": {
       "model_id": "805e6fa430b64ff5870492db64f40a97",
       "version_major": 2,
       "version_minor": 0
      },
      "text/plain": [
       "  0%|          | 0/782 [00:00<?, ?it/s]"
      ]
     },
     "metadata": {},
     "output_type": "display_data"
    },
    {
     "name": "stdout",
     "output_type": "stream",
     "text": [
      "Epoch 1, batch index 0 || train loss: 2.443060874938965, train acc: 17.1875\n",
      "Epoch 1, batch index 100 || train loss: 2.461934538170843, train acc: 10.040222772277227\n",
      "Epoch 1, batch index 200 || train loss: 2.460662644893969, train acc: 9.934701492537313\n",
      "Epoch 1, batch index 300 || train loss: 2.4621958312798182, train acc: 10.039451827242525\n",
      "Epoch 1, batch index 400 || train loss: 2.4604383418684885, train acc: 10.045199501246882\n",
      "Epoch 1, batch index 500 || train loss: 2.4623470967877172, train acc: 10.017465069860279\n",
      "Epoch 1, batch index 600 || train loss: 2.4624151901873494, train acc: 10.030158069883527\n",
      "Epoch 1, batch index 700 || train loss: 2.4613290499688554, train acc: 10.061519258202567\n"
     ]
    },
    {
     "data": {
      "application/vnd.jupyter.widget-view+json": {
       "model_id": "41d15063a3e54189bf093f90cba05bd5",
       "version_major": 2,
       "version_minor": 0
      },
      "text/plain": [
       "  0%|          | 0/157 [00:00<?, ?it/s]"
      ]
     },
     "metadata": {},
     "output_type": "display_data"
    },
    {
     "name": "stdout",
     "output_type": "stream",
     "text": [
      "Epoch 1 val loss: 385.68193, test acc: 9.95223\n"
     ]
    },
    {
     "data": {
      "application/vnd.jupyter.widget-view+json": {
       "model_id": "f6bbaefc11254fd7b8067bf8ec86e071",
       "version_major": 2,
       "version_minor": 0
      },
      "text/plain": [
       "  0%|          | 0/782 [00:00<?, ?it/s]"
      ]
     },
     "metadata": {},
     "output_type": "display_data"
    },
    {
     "name": "stdout",
     "output_type": "stream",
     "text": [
      "Epoch 2, batch index 0 || train loss: 2.502495527267456, train acc: 3.125\n",
      "Epoch 2, batch index 100 || train loss: 2.464301571987643, train acc: 9.870049504950495\n",
      "Epoch 2, batch index 200 || train loss: 2.4616386463393027, train acc: 10.066853233830846\n",
      "Epoch 2, batch index 300 || train loss: 2.4630681082259778, train acc: 10.122508305647841\n",
      "Epoch 2, batch index 400 || train loss: 2.461320012584886, train acc: 10.173784289276808\n",
      "Epoch 2, batch index 500 || train loss: 2.4620709585810374, train acc: 9.98315868263473\n",
      "Epoch 2, batch index 600 || train loss: 2.4615058200728277, train acc: 10.04575707154742\n",
      "Epoch 2, batch index 700 || train loss: 2.4644534683091495, train acc: 9.974589871611983\n"
     ]
    },
    {
     "data": {
      "application/vnd.jupyter.widget-view+json": {
       "model_id": "1a665677687c443fbffa0b0a2c20772f",
       "version_major": 2,
       "version_minor": 0
      },
      "text/plain": [
       "  0%|          | 0/157 [00:00<?, ?it/s]"
      ]
     },
     "metadata": {},
     "output_type": "display_data"
    },
    {
     "name": "stdout",
     "output_type": "stream",
     "text": [
      "Epoch 2 val loss: 385.68193, test acc: 9.95223\n"
     ]
    },
    {
     "data": {
      "application/vnd.jupyter.widget-view+json": {
       "model_id": "84a69c0fd2014c5ca1735b52cbb6821d",
       "version_major": 2,
       "version_minor": 0
      },
      "text/plain": [
       "  0%|          | 0/782 [00:00<?, ?it/s]"
      ]
     },
     "metadata": {},
     "output_type": "display_data"
    },
    {
     "name": "stdout",
     "output_type": "stream",
     "text": [
      "Epoch 3, batch index 0 || train loss: 2.5045053958892822, train acc: 12.5\n",
      "Epoch 3, batch index 100 || train loss: 2.461139737969578, train acc: 10.071163366336634\n",
      "Epoch 3, batch index 200 || train loss: 2.4662613109569644, train acc: 9.872512437810945\n",
      "Epoch 3, batch index 300 || train loss: 2.4664306640625, train acc: 9.8421926910299\n",
      "Epoch 3, batch index 400 || train loss: 2.463029032633489, train acc: 9.920511221945137\n",
      "Epoch 3, batch index 500 || train loss: 2.4656598848735025, train acc: 9.842814371257486\n",
      "Epoch 3, batch index 600 || train loss: 2.463915765781371, train acc: 9.889767054908486\n",
      "Epoch 3, batch index 700 || train loss: 2.4637389475540834, train acc: 9.901034236804565\n"
     ]
    },
    {
     "data": {
      "application/vnd.jupyter.widget-view+json": {
       "model_id": "3093877ed43344b6a88363c9b39cf8cd",
       "version_major": 2,
       "version_minor": 0
      },
      "text/plain": [
       "  0%|          | 0/157 [00:00<?, ?it/s]"
      ]
     },
     "metadata": {},
     "output_type": "display_data"
    },
    {
     "name": "stdout",
     "output_type": "stream",
     "text": [
      "Epoch 3 val loss: 385.68193, test acc: 9.95223\n"
     ]
    },
    {
     "data": {
      "application/vnd.jupyter.widget-view+json": {
       "model_id": "d9ae311554cc4f7782c2d6da132b2fbc",
       "version_major": 2,
       "version_minor": 0
      },
      "text/plain": [
       "  0%|          | 0/782 [00:00<?, ?it/s]"
      ]
     },
     "metadata": {},
     "output_type": "display_data"
    },
    {
     "name": "stdout",
     "output_type": "stream",
     "text": [
      "Epoch 4, batch index 0 || train loss: 2.4989843368530273, train acc: 10.9375\n",
      "Epoch 4, batch index 100 || train loss: 2.465723450821225, train acc: 9.962871287128714\n",
      "Epoch 4, batch index 200 || train loss: 2.468480279789635, train acc: 9.864738805970148\n",
      "Epoch 4, batch index 300 || train loss: 2.466855088737716, train acc: 9.852574750830565\n",
      "Epoch 4, batch index 400 || train loss: 2.4622817889710613, train acc: 9.963372817955113\n",
      "Epoch 4, batch index 500 || train loss: 2.461453351669921, train acc: 10.017465069860279\n",
      "Epoch 4, batch index 600 || train loss: 2.461219683264734, train acc: 10.030158069883527\n",
      "Epoch 4, batch index 700 || train loss: 2.460922086459934, train acc: 10.050374465049929\n"
     ]
    },
    {
     "data": {
      "application/vnd.jupyter.widget-view+json": {
       "model_id": "f181c49627cf4d82813e7524dfb2c579",
       "version_major": 2,
       "version_minor": 0
      },
      "text/plain": [
       "  0%|          | 0/157 [00:00<?, ?it/s]"
      ]
     },
     "metadata": {},
     "output_type": "display_data"
    },
    {
     "name": "stdout",
     "output_type": "stream",
     "text": [
      "Epoch 4 val loss: 385.68193, test acc: 9.95223\n"
     ]
    },
    {
     "data": {
      "application/vnd.jupyter.widget-view+json": {
       "model_id": "25dfe51ff5734cedab425a22349fd818",
       "version_major": 2,
       "version_minor": 0
      },
      "text/plain": [
       "  0%|          | 0/782 [00:00<?, ?it/s]"
      ]
     },
     "metadata": {},
     "output_type": "display_data"
    },
    {
     "name": "stdout",
     "output_type": "stream",
     "text": [
      "Epoch 5, batch index 0 || train loss: 2.467496156692505, train acc: 12.5\n",
      "Epoch 5, batch index 100 || train loss: 2.4640786081257433, train acc: 10.009282178217822\n",
      "Epoch 5, batch index 200 || train loss: 2.469671646753947, train acc: 9.888059701492537\n",
      "Epoch 5, batch index 300 || train loss: 2.468252645378493, train acc: 9.847383720930232\n",
      "Epoch 5, batch index 400 || train loss: 2.4636138805427454, train acc: 9.998441396508728\n",
      "Epoch 5, batch index 500 || train loss: 2.46245513657134, train acc: 10.054890219560878\n",
      "Epoch 5, batch index 600 || train loss: 2.464117944736449, train acc: 10.019758735440933\n",
      "Epoch 5, batch index 700 || train loss: 2.4632819899478755, train acc: 9.983505706134094\n"
     ]
    },
    {
     "data": {
      "application/vnd.jupyter.widget-view+json": {
       "model_id": "0969000807ba4ceaab865346102b8fb6",
       "version_major": 2,
       "version_minor": 0
      },
      "text/plain": [
       "  0%|          | 0/157 [00:00<?, ?it/s]"
      ]
     },
     "metadata": {},
     "output_type": "display_data"
    },
    {
     "name": "stdout",
     "output_type": "stream",
     "text": [
      "Epoch 5 val loss: 385.68193, test acc: 9.95223\n"
     ]
    },
    {
     "data": {
      "application/vnd.jupyter.widget-view+json": {
       "model_id": "a0f03e2ec32d4566ad4b9f7b2baad870",
       "version_major": 2,
       "version_minor": 0
      },
      "text/plain": [
       "  0%|          | 0/782 [00:00<?, ?it/s]"
      ]
     },
     "metadata": {},
     "output_type": "display_data"
    },
    {
     "name": "stdout",
     "output_type": "stream",
     "text": [
      "Epoch 6, batch index 0 || train loss: 2.4794998168945312, train acc: 14.0625\n",
      "Epoch 6, batch index 100 || train loss: 2.459561725654224, train acc: 9.854579207920793\n",
      "Epoch 6, batch index 200 || train loss: 2.465007319379209, train acc: 9.701492537313433\n",
      "Epoch 6, batch index 300 || train loss: 2.4591628261578835, train acc: 9.940822259136212\n",
      "Epoch 6, batch index 400 || train loss: 2.4615324530518263, train acc: 10.045199501246882\n",
      "Epoch 6, batch index 500 || train loss: 2.4625205451143004, train acc: 9.914545908183634\n",
      "Epoch 6, batch index 600 || train loss: 2.461139289789311, train acc: 9.985960898502496\n",
      "Epoch 6, batch index 700 || train loss: 2.460537140107529, train acc: 9.983505706134094\n"
     ]
    },
    {
     "data": {
      "application/vnd.jupyter.widget-view+json": {
       "model_id": "15f89bc85562480594a5db66aa119d9c",
       "version_major": 2,
       "version_minor": 0
      },
      "text/plain": [
       "  0%|          | 0/157 [00:00<?, ?it/s]"
      ]
     },
     "metadata": {},
     "output_type": "display_data"
    },
    {
     "name": "stdout",
     "output_type": "stream",
     "text": [
      "Epoch 6 val loss: 385.68193, test acc: 9.95223\n"
     ]
    },
    {
     "data": {
      "application/vnd.jupyter.widget-view+json": {
       "model_id": "79d165da0fa64297bd0cfae6c215c8a1",
       "version_major": 2,
       "version_minor": 0
      },
      "text/plain": [
       "  0%|          | 0/782 [00:00<?, ?it/s]"
      ]
     },
     "metadata": {},
     "output_type": "display_data"
    },
    {
     "name": "stdout",
     "output_type": "stream",
     "text": [
      "Epoch 7, batch index 0 || train loss: 2.5358774662017822, train acc: 6.25\n",
      "Epoch 7, batch index 100 || train loss: 2.469434905760359, train acc: 9.761757425742575\n",
      "Epoch 7, batch index 200 || train loss: 2.4674718249496537, train acc: 9.810323383084578\n",
      "Epoch 7, batch index 300 || train loss: 2.465337636858918, train acc: 9.914867109634551\n",
      "Epoch 7, batch index 400 || train loss: 2.464899617240316, train acc: 9.877649625935161\n",
      "Epoch 7, batch index 500 || train loss: 2.464105183016992, train acc: 9.955089820359282\n",
      "Epoch 7, batch index 600 || train loss: 2.4643315546921207, train acc: 9.926164725457571\n",
      "Epoch 7, batch index 700 || train loss: 2.464109370099665, train acc: 9.903263195435093\n"
     ]
    },
    {
     "data": {
      "application/vnd.jupyter.widget-view+json": {
       "model_id": "ad4b975a303a4d00983cab3509616f42",
       "version_major": 2,
       "version_minor": 0
      },
      "text/plain": [
       "  0%|          | 0/157 [00:00<?, ?it/s]"
      ]
     },
     "metadata": {},
     "output_type": "display_data"
    },
    {
     "name": "stdout",
     "output_type": "stream",
     "text": [
      "Epoch 7 val loss: 385.68193, test acc: 9.95223\n"
     ]
    },
    {
     "data": {
      "application/vnd.jupyter.widget-view+json": {
       "model_id": "c84c51007f1e4a978dcb4b406db10c90",
       "version_major": 2,
       "version_minor": 0
      },
      "text/plain": [
       "  0%|          | 0/782 [00:00<?, ?it/s]"
      ]
     },
     "metadata": {},
     "output_type": "display_data"
    },
    {
     "name": "stdout",
     "output_type": "stream",
     "text": [
      "Epoch 8, batch index 0 || train loss: 2.3693196773529053, train acc: 6.25\n",
      "Epoch 8, batch index 100 || train loss: 2.4506696403616726, train acc: 10.442450495049505\n",
      "Epoch 8, batch index 200 || train loss: 2.457531325259612, train acc: 9.91915422885572\n",
      "Epoch 8, batch index 300 || train loss: 2.4612124988010953, train acc: 9.93563122923588\n",
      "Epoch 8, batch index 400 || train loss: 2.462672555238529, train acc: 9.823098503740649\n",
      "Epoch 8, batch index 500 || train loss: 2.4651040017247916, train acc: 9.808507984031936\n",
      "Epoch 8, batch index 600 || train loss: 2.4630485874245847, train acc: 9.894966722129784\n",
      "Epoch 8, batch index 700 || train loss: 2.4628651652288505, train acc: 9.927781740370898\n"
     ]
    },
    {
     "data": {
      "application/vnd.jupyter.widget-view+json": {
       "model_id": "e5b7ebe88f3b47199f04f46cac142fa9",
       "version_major": 2,
       "version_minor": 0
      },
      "text/plain": [
       "  0%|          | 0/157 [00:00<?, ?it/s]"
      ]
     },
     "metadata": {},
     "output_type": "display_data"
    },
    {
     "name": "stdout",
     "output_type": "stream",
     "text": [
      "Epoch 8 val loss: 385.68193, test acc: 9.95223\n"
     ]
    },
    {
     "data": {
      "application/vnd.jupyter.widget-view+json": {
       "model_id": "ca2974e539bd46069b658ff1317e53d4",
       "version_major": 2,
       "version_minor": 0
      },
      "text/plain": [
       "  0%|          | 0/782 [00:00<?, ?it/s]"
      ]
     },
     "metadata": {},
     "output_type": "display_data"
    },
    {
     "name": "stdout",
     "output_type": "stream",
     "text": [
      "Epoch 9, batch index 0 || train loss: 2.464365005493164, train acc: 9.375\n",
      "Epoch 9, batch index 100 || train loss: 2.469321345338727, train acc: 9.699876237623762\n",
      "Epoch 9, batch index 200 || train loss: 2.4622108390675255, train acc: 9.996890547263682\n",
      "Epoch 9, batch index 300 || train loss: 2.4649442731344027, train acc: 9.940822259136212\n",
      "Epoch 9, batch index 400 || train loss: 2.4657941673164654, train acc: 9.89323566084788\n",
      "Epoch 9, batch index 500 || train loss: 2.4648703591314383, train acc: 9.98939620758483\n",
      "Epoch 9, batch index 600 || train loss: 2.46284268501396, train acc: 10.035357737104825\n",
      "Epoch 9, batch index 700 || train loss: 2.4630730352796264, train acc: 10.063748216833096\n"
     ]
    },
    {
     "data": {
      "application/vnd.jupyter.widget-view+json": {
       "model_id": "d5c718ac4f414220acf8d2b85af9bf35",
       "version_major": 2,
       "version_minor": 0
      },
      "text/plain": [
       "  0%|          | 0/157 [00:00<?, ?it/s]"
      ]
     },
     "metadata": {},
     "output_type": "display_data"
    },
    {
     "name": "stdout",
     "output_type": "stream",
     "text": [
      "Epoch 9 val loss: 385.68193, test acc: 9.95223\n"
     ]
    },
    {
     "data": {
      "application/vnd.jupyter.widget-view+json": {
       "model_id": "f9c55192712344aaa631503696080664",
       "version_major": 2,
       "version_minor": 0
      },
      "text/plain": [
       "  0%|          | 0/782 [00:00<?, ?it/s]"
      ]
     },
     "metadata": {},
     "output_type": "display_data"
    },
    {
     "name": "stdout",
     "output_type": "stream",
     "text": [
      "Epoch 10, batch index 0 || train loss: 2.5350489616394043, train acc: 0.0\n",
      "Epoch 10, batch index 100 || train loss: 2.46423614851319, train acc: 9.79269801980198\n",
      "Epoch 10, batch index 200 || train loss: 2.465148495204413, train acc: 9.701492537313433\n",
      "Epoch 10, batch index 300 || train loss: 2.46451450819985, train acc: 9.743563122923588\n",
      "Epoch 10, batch index 400 || train loss: 2.4611357643717247, train acc: 9.959476309226932\n",
      "Epoch 10, batch index 500 || train loss: 2.4627376602081483, train acc: 9.97068363273453\n",
      "Epoch 10, batch index 600 || train loss: 2.4627226942192495, train acc: 10.022358569051582\n",
      "Epoch 10, batch index 700 || train loss: 2.462322543248981, train acc: 10.021398002853067\n"
     ]
    },
    {
     "data": {
      "application/vnd.jupyter.widget-view+json": {
       "model_id": "2e20b3b5d4a7412d8f11652a933d7cab",
       "version_major": 2,
       "version_minor": 0
      },
      "text/plain": [
       "  0%|          | 0/157 [00:00<?, ?it/s]"
      ]
     },
     "metadata": {},
     "output_type": "display_data"
    },
    {
     "name": "stdout",
     "output_type": "stream",
     "text": [
      "Epoch 10 val loss: 385.68193, test acc: 9.95223\n"
     ]
    },
    {
     "data": {
      "application/vnd.jupyter.widget-view+json": {
       "model_id": "dee3b0a9925d4dd4b69f7da01292f6a0",
       "version_major": 2,
       "version_minor": 0
      },
      "text/plain": [
       "  0%|          | 0/782 [00:00<?, ?it/s]"
      ]
     },
     "metadata": {},
     "output_type": "display_data"
    },
    {
     "name": "stdout",
     "output_type": "stream",
     "text": [
      "Epoch 11, batch index 0 || train loss: 2.5294666290283203, train acc: 4.6875\n",
      "Epoch 11, batch index 100 || train loss: 2.4688670918492988, train acc: 9.545173267326733\n",
      "Epoch 11, batch index 200 || train loss: 2.4597835813588764, train acc: 9.849191542288557\n",
      "Epoch 11, batch index 300 || train loss: 2.4580785634113704, train acc: 9.883720930232558\n",
      "Epoch 11, batch index 400 || train loss: 2.4608237125035237, train acc: 9.947786783042394\n",
      "Epoch 11, batch index 500 || train loss: 2.460254979942611, train acc: 9.96444610778443\n",
      "Epoch 11, batch index 600 || train loss: 2.4604684088670474, train acc: 9.972961730449251\n",
      "Epoch 11, batch index 700 || train loss: 2.4614338820398958, train acc: 10.037000713266762\n"
     ]
    },
    {
     "data": {
      "application/vnd.jupyter.widget-view+json": {
       "model_id": "188aa2c69b85482783b02b39ab2e9991",
       "version_major": 2,
       "version_minor": 0
      },
      "text/plain": [
       "  0%|          | 0/157 [00:00<?, ?it/s]"
      ]
     },
     "metadata": {},
     "output_type": "display_data"
    },
    {
     "name": "stdout",
     "output_type": "stream",
     "text": [
      "Epoch 11 val loss: 385.68193, test acc: 9.95223\n"
     ]
    },
    {
     "data": {
      "application/vnd.jupyter.widget-view+json": {
       "model_id": "6b2c70c042a0474eb18a327a8553a2c8",
       "version_major": 2,
       "version_minor": 0
      },
      "text/plain": [
       "  0%|          | 0/782 [00:00<?, ?it/s]"
      ]
     },
     "metadata": {},
     "output_type": "display_data"
    },
    {
     "name": "stdout",
     "output_type": "stream",
     "text": [
      "Epoch 12, batch index 0 || train loss: 2.3925740718841553, train acc: 14.0625\n",
      "Epoch 12, batch index 100 || train loss: 2.4612696737346083, train acc: 9.715346534653465\n",
      "Epoch 12, batch index 200 || train loss: 2.4621582292205657, train acc: 10.004664179104477\n",
      "Epoch 12, batch index 300 || train loss: 2.4626352850384885, train acc: 9.987541528239202\n",
      "Epoch 12, batch index 400 || train loss: 2.463760328411759, train acc: 9.854270573566085\n",
      "Epoch 12, batch index 500 || train loss: 2.463224722715671, train acc: 9.889595808383234\n",
      "Epoch 12, batch index 600 || train loss: 2.4638103899265484, train acc: 9.824771214642263\n",
      "Epoch 12, batch index 700 || train loss: 2.4633528006059806, train acc: 9.849768188302425\n"
     ]
    },
    {
     "data": {
      "application/vnd.jupyter.widget-view+json": {
       "model_id": "c0cf68ad0af94fbf909acd6c9863b2ab",
       "version_major": 2,
       "version_minor": 0
      },
      "text/plain": [
       "  0%|          | 0/157 [00:00<?, ?it/s]"
      ]
     },
     "metadata": {},
     "output_type": "display_data"
    },
    {
     "name": "stdout",
     "output_type": "stream",
     "text": [
      "Epoch 12 val loss: 385.68193, test acc: 9.95223\n"
     ]
    },
    {
     "data": {
      "application/vnd.jupyter.widget-view+json": {
       "model_id": "4a0c8dbc32a449ffa74975dda81723c2",
       "version_major": 2,
       "version_minor": 0
      },
      "text/plain": [
       "  0%|          | 0/782 [00:00<?, ?it/s]"
      ]
     },
     "metadata": {},
     "output_type": "display_data"
    },
    {
     "name": "stdout",
     "output_type": "stream",
     "text": [
      "Epoch 13, batch index 0 || train loss: 2.570009708404541, train acc: 6.25\n",
      "Epoch 13, batch index 100 || train loss: 2.4448027469144007, train acc: 10.426980198019802\n",
      "Epoch 13, batch index 200 || train loss: 2.4612766533941772, train acc: 9.872512437810945\n",
      "Epoch 13, batch index 300 || train loss: 2.4612305671273673, train acc: 10.101744186046512\n",
      "Epoch 13, batch index 400 || train loss: 2.462889859206659, train acc: 9.881546134663342\n",
      "Epoch 13, batch index 500 || train loss: 2.4627530465344947, train acc: 9.858408183632735\n",
      "Epoch 13, batch index 600 || train loss: 2.4637296108556863, train acc: 9.874168053244592\n",
      "Epoch 13, batch index 700 || train loss: 2.46285414899807, train acc: 9.878744650499288\n"
     ]
    },
    {
     "data": {
      "application/vnd.jupyter.widget-view+json": {
       "model_id": "70d7749620fc489bac1e6dce8895a6a1",
       "version_major": 2,
       "version_minor": 0
      },
      "text/plain": [
       "  0%|          | 0/157 [00:00<?, ?it/s]"
      ]
     },
     "metadata": {},
     "output_type": "display_data"
    },
    {
     "name": "stdout",
     "output_type": "stream",
     "text": [
      "Epoch 13 val loss: 385.68193, test acc: 9.95223\n"
     ]
    },
    {
     "data": {
      "application/vnd.jupyter.widget-view+json": {
       "model_id": "0627d7ffd93245f5a9749ebee6463160",
       "version_major": 2,
       "version_minor": 0
      },
      "text/plain": [
       "  0%|          | 0/782 [00:00<?, ?it/s]"
      ]
     },
     "metadata": {},
     "output_type": "display_data"
    },
    {
     "name": "stdout",
     "output_type": "stream",
     "text": [
      "Epoch 14, batch index 0 || train loss: 2.3583059310913086, train acc: 10.9375\n",
      "Epoch 14, batch index 100 || train loss: 2.4757670270334375, train acc: 9.545173267326733\n",
      "Epoch 14, batch index 200 || train loss: 2.4672553432521536, train acc: 9.958022388059701\n",
      "Epoch 14, batch index 300 || train loss: 2.4668588614543014, train acc: 10.003114617940199\n",
      "Epoch 14, batch index 400 || train loss: 2.462050349337799, train acc: 10.165991271820449\n",
      "Epoch 14, batch index 500 || train loss: 2.464051507904144, train acc: 9.98939620758483\n",
      "Epoch 14, batch index 600 || train loss: 2.4635645407011824, train acc: 9.996360232945092\n",
      "Epoch 14, batch index 700 || train loss: 2.4638746621435277, train acc: 9.965674037089872\n"
     ]
    },
    {
     "data": {
      "application/vnd.jupyter.widget-view+json": {
       "model_id": "d517f0e02c73434d9c6fb4247476c41a",
       "version_major": 2,
       "version_minor": 0
      },
      "text/plain": [
       "  0%|          | 0/157 [00:00<?, ?it/s]"
      ]
     },
     "metadata": {},
     "output_type": "display_data"
    },
    {
     "name": "stdout",
     "output_type": "stream",
     "text": [
      "Epoch 14 val loss: 385.68193, test acc: 9.95223\n"
     ]
    },
    {
     "data": {
      "application/vnd.jupyter.widget-view+json": {
       "model_id": "df01869468b343c89c7b61001f74ce48",
       "version_major": 2,
       "version_minor": 0
      },
      "text/plain": [
       "  0%|          | 0/782 [00:00<?, ?it/s]"
      ]
     },
     "metadata": {},
     "output_type": "display_data"
    },
    {
     "name": "stdout",
     "output_type": "stream",
     "text": [
      "Epoch 15, batch index 0 || train loss: 2.423712968826294, train acc: 12.5\n",
      "Epoch 15, batch index 100 || train loss: 2.460726452345895, train acc: 9.622524752475247\n",
      "Epoch 15, batch index 200 || train loss: 2.4563278463942493, train acc: 10.230099502487562\n",
      "Epoch 15, batch index 300 || train loss: 2.4575716878884655, train acc: 10.236710963455149\n",
      "Epoch 15, batch index 400 || train loss: 2.458954193348302, train acc: 10.130922693266832\n",
      "Epoch 15, batch index 500 || train loss: 2.459111207973457, train acc: 10.107909181636726\n",
      "Epoch 15, batch index 600 || train loss: 2.4593801748336057, train acc: 10.076955074875208\n",
      "Epoch 15, batch index 700 || train loss: 2.462527089384245, train acc: 9.983505706134094\n"
     ]
    },
    {
     "data": {
      "application/vnd.jupyter.widget-view+json": {
       "model_id": "b1aa0aaa59824aec87daa3ce4b80864d",
       "version_major": 2,
       "version_minor": 0
      },
      "text/plain": [
       "  0%|          | 0/157 [00:00<?, ?it/s]"
      ]
     },
     "metadata": {},
     "output_type": "display_data"
    },
    {
     "name": "stdout",
     "output_type": "stream",
     "text": [
      "Epoch 15 val loss: 385.68193, test acc: 9.95223\n"
     ]
    },
    {
     "data": {
      "application/vnd.jupyter.widget-view+json": {
       "model_id": "1f15b542ca914f6d91a643a62c4ac7ca",
       "version_major": 2,
       "version_minor": 0
      },
      "text/plain": [
       "  0%|          | 0/782 [00:00<?, ?it/s]"
      ]
     },
     "metadata": {},
     "output_type": "display_data"
    },
    {
     "name": "stdout",
     "output_type": "stream",
     "text": [
      "Epoch 16, batch index 0 || train loss: 2.525423526763916, train acc: 6.25\n",
      "Epoch 16, batch index 100 || train loss: 2.4636208019634283, train acc: 10.117574257425742\n",
      "Epoch 16, batch index 200 || train loss: 2.468550610898146, train acc: 9.64707711442786\n",
      "Epoch 16, batch index 300 || train loss: 2.465368204338606, train acc: 9.966777408637874\n",
      "Epoch 16, batch index 400 || train loss: 2.4654967826500793, train acc: 9.98285536159601\n",
      "Epoch 16, batch index 500 || train loss: 2.4658279999525483, train acc: 10.011227544910179\n",
      "Epoch 16, batch index 600 || train loss: 2.464826421610726, train acc: 10.019758735440933\n",
      "Epoch 16, batch index 700 || train loss: 2.465047689715398, train acc: 9.943384450784594\n"
     ]
    },
    {
     "data": {
      "application/vnd.jupyter.widget-view+json": {
       "model_id": "a4e16ce07bbe431cb6df6b9860d6af8b",
       "version_major": 2,
       "version_minor": 0
      },
      "text/plain": [
       "  0%|          | 0/157 [00:00<?, ?it/s]"
      ]
     },
     "metadata": {},
     "output_type": "display_data"
    },
    {
     "name": "stdout",
     "output_type": "stream",
     "text": [
      "Epoch 16 val loss: 385.68193, test acc: 9.95223\n"
     ]
    },
    {
     "data": {
      "application/vnd.jupyter.widget-view+json": {
       "model_id": "f88ccac99cb7493f98f30b1d9c34a263",
       "version_major": 2,
       "version_minor": 0
      },
      "text/plain": [
       "  0%|          | 0/782 [00:00<?, ?it/s]"
      ]
     },
     "metadata": {},
     "output_type": "display_data"
    },
    {
     "name": "stdout",
     "output_type": "stream",
     "text": [
      "Epoch 17, batch index 0 || train loss: 2.4071974754333496, train acc: 14.0625\n",
      "Epoch 17, batch index 100 || train loss: 2.4603785972784062, train acc: 10.194925742574258\n",
      "Epoch 17, batch index 200 || train loss: 2.4600669910658652, train acc: 10.167910447761194\n",
      "Epoch 17, batch index 300 || train loss: 2.4627181651980377, train acc: 9.88891196013289\n",
      "Epoch 17, batch index 400 || train loss: 2.4635294268553394, train acc: 9.795822942643392\n",
      "Epoch 17, batch index 500 || train loss: 2.4625689978609064, train acc: 9.870883233532934\n",
      "Epoch 17, batch index 600 || train loss: 2.4625734902062946, train acc: 9.93136439267887\n",
      "Epoch 17, batch index 700 || train loss: 2.463475468495433, train acc: 9.952300285306706\n"
     ]
    },
    {
     "data": {
      "application/vnd.jupyter.widget-view+json": {
       "model_id": "a0121bb2d48543cb9f1ee8ab924f5e1e",
       "version_major": 2,
       "version_minor": 0
      },
      "text/plain": [
       "  0%|          | 0/157 [00:00<?, ?it/s]"
      ]
     },
     "metadata": {},
     "output_type": "display_data"
    },
    {
     "name": "stdout",
     "output_type": "stream",
     "text": [
      "Epoch 17 val loss: 385.68193, test acc: 9.95223\n"
     ]
    },
    {
     "data": {
      "application/vnd.jupyter.widget-view+json": {
       "model_id": "f2860e4db3214b039982420f2ee7c02d",
       "version_major": 2,
       "version_minor": 0
      },
      "text/plain": [
       "  0%|          | 0/782 [00:00<?, ?it/s]"
      ]
     },
     "metadata": {},
     "output_type": "display_data"
    },
    {
     "name": "stdout",
     "output_type": "stream",
     "text": [
      "Epoch 18, batch index 0 || train loss: 2.505690336227417, train acc: 7.8125\n",
      "Epoch 18, batch index 100 || train loss: 2.4698534271504617, train acc: 9.251237623762377\n",
      "Epoch 18, batch index 200 || train loss: 2.463659043335796, train acc: 9.70926616915423\n",
      "Epoch 18, batch index 300 || train loss: 2.4624846472692647, train acc: 9.920058139534884\n",
      "Epoch 18, batch index 400 || train loss: 2.4607070705242586, train acc: 9.904925187032418\n",
      "Epoch 18, batch index 500 || train loss: 2.4622367898861093, train acc: 9.942614770459082\n",
      "Epoch 18, batch index 600 || train loss: 2.4610582877712917, train acc: 10.00155990016639\n",
      "Epoch 18, batch index 700 || train loss: 2.4602553262860223, train acc: 10.001337375178316\n"
     ]
    },
    {
     "data": {
      "application/vnd.jupyter.widget-view+json": {
       "model_id": "d3b0ad32d1834d85931e658a78db3f93",
       "version_major": 2,
       "version_minor": 0
      },
      "text/plain": [
       "  0%|          | 0/157 [00:00<?, ?it/s]"
      ]
     },
     "metadata": {},
     "output_type": "display_data"
    },
    {
     "name": "stdout",
     "output_type": "stream",
     "text": [
      "Epoch 18 val loss: 385.68193, test acc: 9.95223\n"
     ]
    },
    {
     "data": {
      "application/vnd.jupyter.widget-view+json": {
       "model_id": "6890d297a5a14245aa495eeb0e88369a",
       "version_major": 2,
       "version_minor": 0
      },
      "text/plain": [
       "  0%|          | 0/782 [00:00<?, ?it/s]"
      ]
     },
     "metadata": {},
     "output_type": "display_data"
    },
    {
     "name": "stdout",
     "output_type": "stream",
     "text": [
      "Epoch 19, batch index 0 || train loss: 2.4955101013183594, train acc: 4.6875\n",
      "Epoch 19, batch index 100 || train loss: 2.4717922423145557, train acc: 9.26670792079208\n",
      "Epoch 19, batch index 200 || train loss: 2.4683771643472547, train acc: 9.631529850746269\n",
      "Epoch 19, batch index 300 || train loss: 2.466227867278546, train acc: 9.691652823920267\n",
      "Epoch 19, batch index 400 || train loss: 2.463272096510243, train acc: 9.947786783042394\n",
      "Epoch 19, batch index 500 || train loss: 2.464288879059508, train acc: 9.880239520958083\n",
      "Epoch 19, batch index 600 || train loss: 2.4644939252818485, train acc: 9.944363560732112\n",
      "Epoch 19, batch index 700 || train loss: 2.463844018723927, train acc: 9.95675820256776\n"
     ]
    },
    {
     "data": {
      "application/vnd.jupyter.widget-view+json": {
       "model_id": "6e447036652a486dac6284dc6207cf5e",
       "version_major": 2,
       "version_minor": 0
      },
      "text/plain": [
       "  0%|          | 0/157 [00:00<?, ?it/s]"
      ]
     },
     "metadata": {},
     "output_type": "display_data"
    },
    {
     "name": "stdout",
     "output_type": "stream",
     "text": [
      "Epoch 19 val loss: 385.68193, test acc: 9.95223\n"
     ]
    },
    {
     "data": {
      "application/vnd.jupyter.widget-view+json": {
       "model_id": "f58c5ec3af1b4bdc81bf64fa7297f33f",
       "version_major": 2,
       "version_minor": 0
      },
      "text/plain": [
       "  0%|          | 0/782 [00:00<?, ?it/s]"
      ]
     },
     "metadata": {},
     "output_type": "display_data"
    },
    {
     "name": "stdout",
     "output_type": "stream",
     "text": [
      "Epoch 20, batch index 0 || train loss: 2.462003707885742, train acc: 10.9375\n",
      "Epoch 20, batch index 100 || train loss: 2.4678476281685406, train acc: 9.68440594059406\n",
      "Epoch 20, batch index 200 || train loss: 2.46656896463081, train acc: 9.926927860696518\n",
      "Epoch 20, batch index 300 || train loss: 2.4626571205367283, train acc: 10.029069767441861\n",
      "Epoch 20, batch index 400 || train loss: 2.462437694506752, train acc: 10.06857855361596\n",
      "Epoch 20, batch index 500 || train loss: 2.459518137092362, train acc: 10.129740518962075\n",
      "Epoch 20, batch index 600 || train loss: 2.461116654702312, train acc: 10.07175540765391\n",
      "Epoch 20, batch index 700 || train loss: 2.461282211091481, train acc: 10.045916547788874\n"
     ]
    },
    {
     "data": {
      "application/vnd.jupyter.widget-view+json": {
       "model_id": "ca94cf8a4e9d42c0b283e22c3d5a377f",
       "version_major": 2,
       "version_minor": 0
      },
      "text/plain": [
       "  0%|          | 0/157 [00:00<?, ?it/s]"
      ]
     },
     "metadata": {},
     "output_type": "display_data"
    },
    {
     "name": "stdout",
     "output_type": "stream",
     "text": [
      "Epoch 20 val loss: 385.68193, test acc: 9.95223\n"
     ]
    },
    {
     "data": {
      "application/vnd.jupyter.widget-view+json": {
       "model_id": "515832e95b2c4de891b704efa9da6e69",
       "version_major": 2,
       "version_minor": 0
      },
      "text/plain": [
       "  0%|          | 0/782 [00:00<?, ?it/s]"
      ]
     },
     "metadata": {},
     "output_type": "display_data"
    },
    {
     "name": "stdout",
     "output_type": "stream",
     "text": [
      "Epoch 21, batch index 0 || train loss: 2.474792718887329, train acc: 10.9375\n",
      "Epoch 21, batch index 100 || train loss: 2.4584872179692336, train acc: 10.163985148514852\n",
      "Epoch 21, batch index 200 || train loss: 2.4590548852189857, train acc: 10.043532338308458\n",
      "Epoch 21, batch index 300 || train loss: 2.4590828822696724, train acc: 9.992732558139535\n",
      "Epoch 21, batch index 400 || train loss: 2.4606946769200655, train acc: 10.060785536159601\n",
      "Epoch 21, batch index 500 || train loss: 2.462055152999665, train acc: 9.945733532934131\n",
      "Epoch 21, batch index 600 || train loss: 2.463704107605082, train acc: 9.892366888519135\n",
      "Epoch 21, batch index 700 || train loss: 2.4637023246237284, train acc: 9.887660485021398\n"
     ]
    },
    {
     "data": {
      "application/vnd.jupyter.widget-view+json": {
       "model_id": "a0620d924b2e48358622ead4d4747fb9",
       "version_major": 2,
       "version_minor": 0
      },
      "text/plain": [
       "  0%|          | 0/157 [00:00<?, ?it/s]"
      ]
     },
     "metadata": {},
     "output_type": "display_data"
    },
    {
     "name": "stdout",
     "output_type": "stream",
     "text": [
      "Epoch 21 val loss: 385.68193, test acc: 9.95223\n"
     ]
    },
    {
     "data": {
      "application/vnd.jupyter.widget-view+json": {
       "model_id": "2fb4b63821c64658bbb3b92dde313347",
       "version_major": 2,
       "version_minor": 0
      },
      "text/plain": [
       "  0%|          | 0/782 [00:00<?, ?it/s]"
      ]
     },
     "metadata": {},
     "output_type": "display_data"
    },
    {
     "name": "stdout",
     "output_type": "stream",
     "text": [
      "Epoch 22, batch index 0 || train loss: 2.5135014057159424, train acc: 10.9375\n",
      "Epoch 22, batch index 100 || train loss: 2.4554904144589265, train acc: 10.272277227722773\n",
      "Epoch 22, batch index 200 || train loss: 2.458245690189191, train acc: 10.082400497512438\n",
      "Epoch 22, batch index 300 || train loss: 2.459799453665648, train acc: 10.065406976744185\n",
      "Epoch 22, batch index 400 || train loss: 2.458647006764971, train acc: 10.07637157107232\n",
      "Epoch 22, batch index 500 || train loss: 2.460202558787759, train acc: 10.048652694610778\n",
      "Epoch 22, batch index 600 || train loss: 2.4623655055009586, train acc: 10.014559068219635\n",
      "Epoch 22, batch index 700 || train loss: 2.4628712443924496, train acc: 9.97904778887304\n"
     ]
    },
    {
     "data": {
      "application/vnd.jupyter.widget-view+json": {
       "model_id": "85b6fa9ef4044e01815e5af6ac1360d0",
       "version_major": 2,
       "version_minor": 0
      },
      "text/plain": [
       "  0%|          | 0/157 [00:00<?, ?it/s]"
      ]
     },
     "metadata": {},
     "output_type": "display_data"
    },
    {
     "name": "stdout",
     "output_type": "stream",
     "text": [
      "Epoch 22 val loss: 385.68193, test acc: 9.95223\n"
     ]
    },
    {
     "data": {
      "application/vnd.jupyter.widget-view+json": {
       "model_id": "0dce32026a754d3593aa9041b2fd6195",
       "version_major": 2,
       "version_minor": 0
      },
      "text/plain": [
       "  0%|          | 0/782 [00:00<?, ?it/s]"
      ]
     },
     "metadata": {},
     "output_type": "display_data"
    },
    {
     "name": "stdout",
     "output_type": "stream",
     "text": [
      "Epoch 23, batch index 0 || train loss: 2.519338846206665, train acc: 6.25\n",
      "Epoch 23, batch index 100 || train loss: 2.467277689735488, train acc: 9.529702970297029\n",
      "Epoch 23, batch index 200 || train loss: 2.463755389351157, train acc: 9.584888059701493\n",
      "Epoch 23, batch index 300 || train loss: 2.4660971552826636, train acc: 9.660506644518273\n",
      "Epoch 23, batch index 400 || train loss: 2.463257473305871, train acc: 9.706203241895262\n",
      "Epoch 23, batch index 500 || train loss: 2.46545174307452, train acc: 9.755489021956087\n",
      "Epoch 23, batch index 600 || train loss: 2.4645130055121296, train acc: 9.790973377703827\n",
      "Epoch 23, batch index 700 || train loss: 2.4636896367419974, train acc: 9.883202567760343\n"
     ]
    },
    {
     "data": {
      "application/vnd.jupyter.widget-view+json": {
       "model_id": "454aa243603641e7b4d34139e93d6095",
       "version_major": 2,
       "version_minor": 0
      },
      "text/plain": [
       "  0%|          | 0/157 [00:00<?, ?it/s]"
      ]
     },
     "metadata": {},
     "output_type": "display_data"
    },
    {
     "name": "stdout",
     "output_type": "stream",
     "text": [
      "Epoch 23 val loss: 385.68193, test acc: 9.95223\n"
     ]
    },
    {
     "data": {
      "application/vnd.jupyter.widget-view+json": {
       "model_id": "76e96a5ecb8740989ef542e8cb56f8f0",
       "version_major": 2,
       "version_minor": 0
      },
      "text/plain": [
       "  0%|          | 0/782 [00:00<?, ?it/s]"
      ]
     },
     "metadata": {},
     "output_type": "display_data"
    },
    {
     "name": "stdout",
     "output_type": "stream",
     "text": [
      "Epoch 24, batch index 0 || train loss: 2.3895347118377686, train acc: 9.375\n",
      "Epoch 24, batch index 100 || train loss: 2.4487730961034795, train acc: 10.380569306930694\n",
      "Epoch 24, batch index 200 || train loss: 2.448237853263741, train acc: 10.70429104477612\n",
      "Epoch 24, batch index 300 || train loss: 2.4521466568854957, train acc: 10.506644518272426\n",
      "Epoch 24, batch index 400 || train loss: 2.4581654327468683, train acc: 10.282886533665835\n",
      "Epoch 24, batch index 500 || train loss: 2.4599653308738967, train acc: 10.142215568862275\n",
      "Epoch 24, batch index 600 || train loss: 2.46220125572852, train acc: 10.053556572379367\n",
      "Epoch 24, batch index 700 || train loss: 2.463377990328126, train acc: 9.970131954350927\n"
     ]
    },
    {
     "data": {
      "application/vnd.jupyter.widget-view+json": {
       "model_id": "3369b1a88598481a90fee76307c41ebb",
       "version_major": 2,
       "version_minor": 0
      },
      "text/plain": [
       "  0%|          | 0/157 [00:00<?, ?it/s]"
      ]
     },
     "metadata": {},
     "output_type": "display_data"
    },
    {
     "name": "stdout",
     "output_type": "stream",
     "text": [
      "Epoch 24 val loss: 385.68193, test acc: 9.95223\n"
     ]
    },
    {
     "data": {
      "application/vnd.jupyter.widget-view+json": {
       "model_id": "d407bf88007b43039b9e9c796d9feadc",
       "version_major": 2,
       "version_minor": 0
      },
      "text/plain": [
       "  0%|          | 0/782 [00:00<?, ?it/s]"
      ]
     },
     "metadata": {},
     "output_type": "display_data"
    },
    {
     "name": "stdout",
     "output_type": "stream",
     "text": [
      "Epoch 25, batch index 0 || train loss: 2.3970892429351807, train acc: 14.0625\n",
      "Epoch 25, batch index 100 || train loss: 2.452996218558585, train acc: 10.365099009900991\n",
      "Epoch 25, batch index 200 || train loss: 2.4636078900958767, train acc: 9.965796019900498\n",
      "Epoch 25, batch index 300 || train loss: 2.456660513862027, train acc: 10.288621262458472\n",
      "Epoch 25, batch index 400 || train loss: 2.460367865098682, train acc: 10.220542394014963\n",
      "Epoch 25, batch index 500 || train loss: 2.461334944247248, train acc: 10.132859281437126\n",
      "Epoch 25, batch index 600 || train loss: 2.460315930069782, train acc: 10.134151414309484\n",
      "Epoch 25, batch index 700 || train loss: 2.4613956241906965, train acc: 10.043687589158345\n"
     ]
    },
    {
     "data": {
      "application/vnd.jupyter.widget-view+json": {
       "model_id": "6810f84a581d438c8d9b149520435518",
       "version_major": 2,
       "version_minor": 0
      },
      "text/plain": [
       "  0%|          | 0/157 [00:00<?, ?it/s]"
      ]
     },
     "metadata": {},
     "output_type": "display_data"
    },
    {
     "name": "stdout",
     "output_type": "stream",
     "text": [
      "Epoch 25 val loss: 385.68193, test acc: 9.95223\n"
     ]
    },
    {
     "data": {
      "application/vnd.jupyter.widget-view+json": {
       "model_id": "e891c484303c4b8d9e0529572996acd5",
       "version_major": 2,
       "version_minor": 0
      },
      "text/plain": [
       "  0%|          | 0/782 [00:00<?, ?it/s]"
      ]
     },
     "metadata": {},
     "output_type": "display_data"
    },
    {
     "name": "stdout",
     "output_type": "stream",
     "text": [
      "Epoch 26, batch index 0 || train loss: 2.4028632640838623, train acc: 7.8125\n",
      "Epoch 26, batch index 100 || train loss: 2.4562442680396654, train acc: 10.442450495049505\n",
      "Epoch 26, batch index 200 || train loss: 2.455263141375869, train acc: 10.191231343283581\n",
      "Epoch 26, batch index 300 || train loss: 2.4591204533941324, train acc: 10.148463455149502\n",
      "Epoch 26, batch index 400 || train loss: 2.4610378082256363, train acc: 10.014027431421447\n",
      "Epoch 26, batch index 500 || train loss: 2.459304915692754, train acc: 9.914545908183634\n",
      "Epoch 26, batch index 600 || train loss: 2.4601960511453536, train acc: 9.983361064891847\n",
      "Epoch 26, batch index 700 || train loss: 2.459789830845875, train acc: 9.976818830242511\n"
     ]
    },
    {
     "data": {
      "application/vnd.jupyter.widget-view+json": {
       "model_id": "bb8699f474874872ac0582a9085e2792",
       "version_major": 2,
       "version_minor": 0
      },
      "text/plain": [
       "  0%|          | 0/157 [00:00<?, ?it/s]"
      ]
     },
     "metadata": {},
     "output_type": "display_data"
    },
    {
     "name": "stdout",
     "output_type": "stream",
     "text": [
      "Epoch 26 val loss: 385.68193, test acc: 9.95223\n"
     ]
    },
    {
     "data": {
      "application/vnd.jupyter.widget-view+json": {
       "model_id": "0230328b68934d6eaea73e13f8c8b30b",
       "version_major": 2,
       "version_minor": 0
      },
      "text/plain": [
       "  0%|          | 0/782 [00:00<?, ?it/s]"
      ]
     },
     "metadata": {},
     "output_type": "display_data"
    },
    {
     "name": "stdout",
     "output_type": "stream",
     "text": [
      "Epoch 27, batch index 0 || train loss: 2.566044330596924, train acc: 7.8125\n",
      "Epoch 27, batch index 100 || train loss: 2.4610756623862993, train acc: 9.668935643564357\n",
      "Epoch 27, batch index 200 || train loss: 2.457828053194492, train acc: 9.880286069651742\n",
      "Epoch 27, batch index 300 || train loss: 2.4599101709765057, train acc: 10.070598006644518\n",
      "Epoch 27, batch index 400 || train loss: 2.4613717529839114, train acc: 10.091957605985037\n",
      "Epoch 27, batch index 500 || train loss: 2.460962549179138, train acc: 10.02058383233533\n",
      "Epoch 27, batch index 600 || train loss: 2.463237759277547, train acc: 9.848169717138104\n",
      "Epoch 27, batch index 700 || train loss: 2.46229977410462, train acc: 9.930010699001427\n"
     ]
    },
    {
     "data": {
      "application/vnd.jupyter.widget-view+json": {
       "model_id": "cfe52e70fb7f41d4892ae47ab048c3a4",
       "version_major": 2,
       "version_minor": 0
      },
      "text/plain": [
       "  0%|          | 0/157 [00:00<?, ?it/s]"
      ]
     },
     "metadata": {},
     "output_type": "display_data"
    },
    {
     "name": "stdout",
     "output_type": "stream",
     "text": [
      "Epoch 27 val loss: 385.68193, test acc: 9.95223\n"
     ]
    },
    {
     "data": {
      "application/vnd.jupyter.widget-view+json": {
       "model_id": "c1911a019734424ba06d9fcba8d87674",
       "version_major": 2,
       "version_minor": 0
      },
      "text/plain": [
       "  0%|          | 0/782 [00:00<?, ?it/s]"
      ]
     },
     "metadata": {},
     "output_type": "display_data"
    },
    {
     "name": "stdout",
     "output_type": "stream",
     "text": [
      "Epoch 28, batch index 0 || train loss: 2.3399112224578857, train acc: 15.625\n",
      "Epoch 28, batch index 100 || train loss: 2.4600351801013, train acc: 10.179455445544555\n",
      "Epoch 28, batch index 200 || train loss: 2.4670224355820993, train acc: 9.849191542288557\n",
      "Epoch 28, batch index 300 || train loss: 2.463906362603273, train acc: 10.055024916943522\n",
      "Epoch 28, batch index 400 || train loss: 2.460711171204907, train acc: 10.111440149625935\n",
      "Epoch 28, batch index 500 || train loss: 2.4588494600650077, train acc: 10.076721556886227\n",
      "Epoch 28, batch index 600 || train loss: 2.4598748497478975, train acc: 9.967762063227953\n",
      "Epoch 28, batch index 700 || train loss: 2.4603522221814207, train acc: 10.012482168330957\n"
     ]
    },
    {
     "data": {
      "application/vnd.jupyter.widget-view+json": {
       "model_id": "d85dc7a34df04295ad46ff93034091ea",
       "version_major": 2,
       "version_minor": 0
      },
      "text/plain": [
       "  0%|          | 0/157 [00:00<?, ?it/s]"
      ]
     },
     "metadata": {},
     "output_type": "display_data"
    },
    {
     "name": "stdout",
     "output_type": "stream",
     "text": [
      "Epoch 28 val loss: 385.68193, test acc: 9.95223\n"
     ]
    },
    {
     "data": {
      "application/vnd.jupyter.widget-view+json": {
       "model_id": "71d998dfb5df417c84445ff173fd88ae",
       "version_major": 2,
       "version_minor": 0
      },
      "text/plain": [
       "  0%|          | 0/782 [00:00<?, ?it/s]"
      ]
     },
     "metadata": {},
     "output_type": "display_data"
    },
    {
     "name": "stdout",
     "output_type": "stream",
     "text": [
      "Epoch 29, batch index 0 || train loss: 2.377598285675049, train acc: 10.9375\n",
      "Epoch 29, batch index 100 || train loss: 2.459911787864005, train acc: 10.148514851485148\n",
      "Epoch 29, batch index 200 || train loss: 2.4595933506144814, train acc: 10.315609452736318\n",
      "Epoch 29, batch index 300 || train loss: 2.457032699521594, train acc: 10.231519933554818\n",
      "Epoch 29, batch index 400 || train loss: 2.455006427598416, train acc: 10.181577306733168\n",
      "Epoch 29, batch index 500 || train loss: 2.4591236228714446, train acc: 10.142215568862275\n",
      "Epoch 29, batch index 600 || train loss: 2.4600117865100675, train acc: 10.050956738768718\n",
      "Epoch 29, batch index 700 || train loss: 2.4618623487959574, train acc: 9.990192582025678\n"
     ]
    },
    {
     "data": {
      "application/vnd.jupyter.widget-view+json": {
       "model_id": "e5d7cbae6ac64b94bd89b162332c72aa",
       "version_major": 2,
       "version_minor": 0
      },
      "text/plain": [
       "  0%|          | 0/157 [00:00<?, ?it/s]"
      ]
     },
     "metadata": {},
     "output_type": "display_data"
    },
    {
     "name": "stdout",
     "output_type": "stream",
     "text": [
      "Epoch 29 val loss: 385.68193, test acc: 9.95223\n"
     ]
    },
    {
     "data": {
      "application/vnd.jupyter.widget-view+json": {
       "model_id": "fb874b8a9e224b0e97d159eb018e1995",
       "version_major": 2,
       "version_minor": 0
      },
      "text/plain": [
       "  0%|          | 0/782 [00:00<?, ?it/s]"
      ]
     },
     "metadata": {},
     "output_type": "display_data"
    },
    {
     "name": "stdout",
     "output_type": "stream",
     "text": [
      "Epoch 30, batch index 0 || train loss: 2.5476608276367188, train acc: 10.9375\n",
      "Epoch 30, batch index 100 || train loss: 2.4621759145566733, train acc: 10.535272277227723\n",
      "Epoch 30, batch index 200 || train loss: 2.4621684005604454, train acc: 10.346703980099502\n",
      "Epoch 30, batch index 300 || train loss: 2.4668446664398296, train acc: 10.086171096345515\n",
      "Epoch 30, batch index 400 || train loss: 2.4636376605664108, train acc: 10.193266832917706\n",
      "Epoch 30, batch index 500 || train loss: 2.460902798913434, train acc: 10.288797405189621\n",
      "Epoch 30, batch index 600 || train loss: 2.462560085607646, train acc: 10.087354409317804\n",
      "Epoch 30, batch index 700 || train loss: 2.463242023035395, train acc: 10.065977175463624\n"
     ]
    },
    {
     "data": {
      "application/vnd.jupyter.widget-view+json": {
       "model_id": "ebd573bb48b64de0890b5f6de502e93f",
       "version_major": 2,
       "version_minor": 0
      },
      "text/plain": [
       "  0%|          | 0/157 [00:00<?, ?it/s]"
      ]
     },
     "metadata": {},
     "output_type": "display_data"
    },
    {
     "name": "stdout",
     "output_type": "stream",
     "text": [
      "Epoch 30 val loss: 385.68193, test acc: 9.95223\n"
     ]
    },
    {
     "data": {
      "application/vnd.jupyter.widget-view+json": {
       "model_id": "160904b949264c4bb214e6288b161fe1",
       "version_major": 2,
       "version_minor": 0
      },
      "text/plain": [
       "  0%|          | 0/782 [00:00<?, ?it/s]"
      ]
     },
     "metadata": {},
     "output_type": "display_data"
    },
    {
     "name": "stdout",
     "output_type": "stream",
     "text": [
      "Epoch 31, batch index 0 || train loss: 2.645651340484619, train acc: 6.25\n",
      "Epoch 31, batch index 100 || train loss: 2.4675155512177116, train acc: 9.514232673267326\n",
      "Epoch 31, batch index 200 || train loss: 2.465458370559844, train acc: 9.872512437810945\n",
      "Epoch 31, batch index 300 || train loss: 2.462912306833109, train acc: 9.930440199335548\n",
      "Epoch 31, batch index 400 || train loss: 2.461357908653202, train acc: 9.967269326683292\n",
      "Epoch 31, batch index 500 || train loss: 2.461686384654093, train acc: 10.092315369261478\n",
      "Epoch 31, batch index 600 || train loss: 2.462034920487745, train acc: 10.027558236272878\n",
      "Epoch 31, batch index 700 || train loss: 2.4621437374773447, train acc: 10.043687589158345\n"
     ]
    },
    {
     "data": {
      "application/vnd.jupyter.widget-view+json": {
       "model_id": "d360db7b0eb047bd89fdab1f29da1cbb",
       "version_major": 2,
       "version_minor": 0
      },
      "text/plain": [
       "  0%|          | 0/157 [00:00<?, ?it/s]"
      ]
     },
     "metadata": {},
     "output_type": "display_data"
    },
    {
     "name": "stdout",
     "output_type": "stream",
     "text": [
      "Epoch 31 val loss: 385.68193, test acc: 9.95223\n"
     ]
    },
    {
     "data": {
      "application/vnd.jupyter.widget-view+json": {
       "model_id": "5313845f72074b39ac8da81080367d7c",
       "version_major": 2,
       "version_minor": 0
      },
      "text/plain": [
       "  0%|          | 0/782 [00:00<?, ?it/s]"
      ]
     },
     "metadata": {},
     "output_type": "display_data"
    },
    {
     "name": "stdout",
     "output_type": "stream",
     "text": [
      "Epoch 32, batch index 0 || train loss: 2.481961965560913, train acc: 9.375\n",
      "Epoch 32, batch index 100 || train loss: 2.460397123110176, train acc: 10.334158415841584\n",
      "Epoch 32, batch index 200 || train loss: 2.4598899540023424, train acc: 9.872512437810945\n",
      "Epoch 32, batch index 300 || train loss: 2.4637306180111196, train acc: 9.857765780730897\n",
      "Epoch 32, batch index 400 || train loss: 2.4618603957264202, train acc: 9.955579800498754\n",
      "Epoch 32, batch index 500 || train loss: 2.463042699886177, train acc: 9.908308383233534\n",
      "Epoch 32, batch index 600 || train loss: 2.4634037085261795, train acc: 9.889767054908486\n",
      "Epoch 32, batch index 700 || train loss: 2.4613282643099144, train acc: 9.974589871611983\n"
     ]
    },
    {
     "data": {
      "application/vnd.jupyter.widget-view+json": {
       "model_id": "6fa69c7d760c4013904ebfa3f084a172",
       "version_major": 2,
       "version_minor": 0
      },
      "text/plain": [
       "  0%|          | 0/157 [00:00<?, ?it/s]"
      ]
     },
     "metadata": {},
     "output_type": "display_data"
    },
    {
     "name": "stdout",
     "output_type": "stream",
     "text": [
      "Epoch 32 val loss: 385.68193, test acc: 9.95223\n"
     ]
    },
    {
     "data": {
      "application/vnd.jupyter.widget-view+json": {
       "model_id": "17f0572eef1043f8b3f67ee66ae994b7",
       "version_major": 2,
       "version_minor": 0
      },
      "text/plain": [
       "  0%|          | 0/782 [00:00<?, ?it/s]"
      ]
     },
     "metadata": {},
     "output_type": "display_data"
    },
    {
     "name": "stdout",
     "output_type": "stream",
     "text": [
      "Epoch 33, batch index 0 || train loss: 2.3352675437927246, train acc: 17.1875\n",
      "Epoch 33, batch index 100 || train loss: 2.4664978792171666, train acc: 10.411509900990099\n",
      "Epoch 33, batch index 200 || train loss: 2.462170822703423, train acc: 10.199004975124378\n",
      "Epoch 33, batch index 300 || train loss: 2.4623760115664663, train acc: 10.049833887043189\n",
      "Epoch 33, batch index 400 || train loss: 2.465521139396991, train acc: 10.037406483790523\n",
      "Epoch 33, batch index 500 || train loss: 2.4645508396887257, train acc: 10.04553393213573\n",
      "Epoch 33, batch index 600 || train loss: 2.464323039856211, train acc: 10.066555740432612\n",
      "Epoch 33, batch index 700 || train loss: 2.463177480643214, train acc: 10.065977175463624\n"
     ]
    },
    {
     "data": {
      "application/vnd.jupyter.widget-view+json": {
       "model_id": "fe82ed60a91547879cfcd03f59faa718",
       "version_major": 2,
       "version_minor": 0
      },
      "text/plain": [
       "  0%|          | 0/157 [00:00<?, ?it/s]"
      ]
     },
     "metadata": {},
     "output_type": "display_data"
    },
    {
     "name": "stdout",
     "output_type": "stream",
     "text": [
      "Epoch 33 val loss: 385.68193, test acc: 9.95223\n"
     ]
    },
    {
     "data": {
      "application/vnd.jupyter.widget-view+json": {
       "model_id": "84a1dde426ba42c49bc4b69f67d0d59b",
       "version_major": 2,
       "version_minor": 0
      },
      "text/plain": [
       "  0%|          | 0/782 [00:00<?, ?it/s]"
      ]
     },
     "metadata": {},
     "output_type": "display_data"
    },
    {
     "name": "stdout",
     "output_type": "stream",
     "text": [
      "Epoch 34, batch index 0 || train loss: 2.429821252822876, train acc: 10.9375\n",
      "Epoch 34, batch index 100 || train loss: 2.461538576843715, train acc: 9.900990099009901\n",
      "Epoch 34, batch index 200 || train loss: 2.458186192299003, train acc: 10.21455223880597\n",
      "Epoch 34, batch index 300 || train loss: 2.458733917470786, train acc: 10.210755813953488\n",
      "Epoch 34, batch index 400 || train loss: 2.4587361354780315, train acc: 10.220542394014963\n",
      "Epoch 34, batch index 500 || train loss: 2.4589713914189746, train acc: 10.135978043912175\n",
      "Epoch 34, batch index 600 || train loss: 2.458973914731957, train acc: 10.219945923460898\n",
      "Epoch 34, batch index 700 || train loss: 2.4612782998023803, train acc: 10.106098430813125\n"
     ]
    },
    {
     "data": {
      "application/vnd.jupyter.widget-view+json": {
       "model_id": "1e7e70a9194c4ae89c940ba979cb7675",
       "version_major": 2,
       "version_minor": 0
      },
      "text/plain": [
       "  0%|          | 0/157 [00:00<?, ?it/s]"
      ]
     },
     "metadata": {},
     "output_type": "display_data"
    },
    {
     "name": "stdout",
     "output_type": "stream",
     "text": [
      "Epoch 34 val loss: 385.68193, test acc: 9.95223\n"
     ]
    },
    {
     "data": {
      "application/vnd.jupyter.widget-view+json": {
       "model_id": "611d393ec7d6444a882a2734a23f5112",
       "version_major": 2,
       "version_minor": 0
      },
      "text/plain": [
       "  0%|          | 0/782 [00:00<?, ?it/s]"
      ]
     },
     "metadata": {},
     "output_type": "display_data"
    },
    {
     "name": "stdout",
     "output_type": "stream",
     "text": [
      "Epoch 35, batch index 0 || train loss: 2.4245824813842773, train acc: 9.375\n",
      "Epoch 35, batch index 100 || train loss: 2.455518335399061, train acc: 10.535272277227723\n",
      "Epoch 35, batch index 200 || train loss: 2.4565241289376027, train acc: 10.463308457711443\n",
      "Epoch 35, batch index 300 || train loss: 2.4603272680428336, train acc: 10.42358803986711\n",
      "Epoch 35, batch index 400 || train loss: 2.4620604360490073, train acc: 10.271197007481296\n",
      "Epoch 35, batch index 500 || train loss: 2.4610849811645323, train acc: 10.182759481037925\n",
      "Epoch 35, batch index 600 || train loss: 2.46213336911257, train acc: 10.113352745424292\n",
      "Epoch 35, batch index 700 || train loss: 2.4611012534306154, train acc: 10.15290656205421\n"
     ]
    },
    {
     "data": {
      "application/vnd.jupyter.widget-view+json": {
       "model_id": "8191ead6cf8640b5b84dba5a8782a899",
       "version_major": 2,
       "version_minor": 0
      },
      "text/plain": [
       "  0%|          | 0/157 [00:00<?, ?it/s]"
      ]
     },
     "metadata": {},
     "output_type": "display_data"
    },
    {
     "name": "stdout",
     "output_type": "stream",
     "text": [
      "Epoch 35 val loss: 385.68193, test acc: 9.95223\n"
     ]
    },
    {
     "data": {
      "application/vnd.jupyter.widget-view+json": {
       "model_id": "7539d5e973304c609df947c72ce18708",
       "version_major": 2,
       "version_minor": 0
      },
      "text/plain": [
       "  0%|          | 0/782 [00:00<?, ?it/s]"
      ]
     },
     "metadata": {},
     "output_type": "display_data"
    },
    {
     "name": "stdout",
     "output_type": "stream",
     "text": [
      "Epoch 36, batch index 0 || train loss: 2.413264513015747, train acc: 14.0625\n",
      "Epoch 36, batch index 100 || train loss: 2.464752364866804, train acc: 10.040222772277227\n",
      "Epoch 36, batch index 200 || train loss: 2.464502335780889, train acc: 9.973569651741293\n",
      "Epoch 36, batch index 300 || train loss: 2.460358749592423, train acc: 9.956395348837209\n",
      "Epoch 36, batch index 400 || train loss: 2.458352418909049, train acc: 9.994544887780549\n",
      "Epoch 36, batch index 500 || train loss: 2.459676462257218, train acc: 9.97068363273453\n",
      "Epoch 36, batch index 600 || train loss: 2.460672538014696, train acc: 9.978161397670549\n",
      "Epoch 36, batch index 700 || train loss: 2.462025964481174, train acc: 9.983505706134094\n"
     ]
    },
    {
     "data": {
      "application/vnd.jupyter.widget-view+json": {
       "model_id": "d98efbb71bde4911b4c6ecf47205c855",
       "version_major": 2,
       "version_minor": 0
      },
      "text/plain": [
       "  0%|          | 0/157 [00:00<?, ?it/s]"
      ]
     },
     "metadata": {},
     "output_type": "display_data"
    },
    {
     "name": "stdout",
     "output_type": "stream",
     "text": [
      "Epoch 36 val loss: 385.68193, test acc: 9.95223\n"
     ]
    },
    {
     "data": {
      "application/vnd.jupyter.widget-view+json": {
       "model_id": "b9997840fa9e4a0a9c14101f6623f13b",
       "version_major": 2,
       "version_minor": 0
      },
      "text/plain": [
       "  0%|          | 0/782 [00:00<?, ?it/s]"
      ]
     },
     "metadata": {},
     "output_type": "display_data"
    },
    {
     "name": "stdout",
     "output_type": "stream",
     "text": [
      "Epoch 37, batch index 0 || train loss: 2.46726655960083, train acc: 6.25\n",
      "Epoch 37, batch index 100 || train loss: 2.468517525361316, train acc: 9.328589108910892\n",
      "Epoch 37, batch index 200 || train loss: 2.466237504683917, train acc: 9.538246268656716\n",
      "Epoch 37, batch index 300 || train loss: 2.4624377271265683, train acc: 9.831810631229235\n",
      "Epoch 37, batch index 400 || train loss: 2.4625827362412527, train acc: 9.803615960099751\n",
      "Epoch 37, batch index 500 || train loss: 2.463459906225909, train acc: 9.839695608782435\n",
      "Epoch 37, batch index 600 || train loss: 2.463297976828653, train acc: 9.866368552412645\n",
      "Epoch 37, batch index 700 || train loss: 2.46168994019273, train acc: 9.945613409415122\n"
     ]
    },
    {
     "data": {
      "application/vnd.jupyter.widget-view+json": {
       "model_id": "02ceff3bee6846c294b24eb0d584c7e3",
       "version_major": 2,
       "version_minor": 0
      },
      "text/plain": [
       "  0%|          | 0/157 [00:00<?, ?it/s]"
      ]
     },
     "metadata": {},
     "output_type": "display_data"
    },
    {
     "name": "stdout",
     "output_type": "stream",
     "text": [
      "Epoch 37 val loss: 385.68193, test acc: 9.95223\n"
     ]
    },
    {
     "data": {
      "application/vnd.jupyter.widget-view+json": {
       "model_id": "f8d64cf1923f489b863701da23473d5d",
       "version_major": 2,
       "version_minor": 0
      },
      "text/plain": [
       "  0%|          | 0/782 [00:00<?, ?it/s]"
      ]
     },
     "metadata": {},
     "output_type": "display_data"
    },
    {
     "name": "stdout",
     "output_type": "stream",
     "text": [
      "Epoch 38, batch index 0 || train loss: 2.4611589908599854, train acc: 10.9375\n",
      "Epoch 38, batch index 100 || train loss: 2.4670931513946837, train acc: 10.024752475247524\n",
      "Epoch 38, batch index 200 || train loss: 2.462214007306455, train acc: 10.004664179104477\n",
      "Epoch 38, batch index 300 || train loss: 2.4636209525935278, train acc: 9.946013289036545\n",
      "Epoch 38, batch index 400 || train loss: 2.463559282688131, train acc: 9.967269326683292\n",
      "Epoch 38, batch index 500 || train loss: 2.462141631844039, train acc: 10.01434630738523\n",
      "Epoch 38, batch index 600 || train loss: 2.4620735700832626, train acc: 10.017158901830284\n",
      "Epoch 38, batch index 700 || train loss: 2.4614987128471344, train acc: 10.050374465049929\n"
     ]
    },
    {
     "data": {
      "application/vnd.jupyter.widget-view+json": {
       "model_id": "75ef0a90db644719a0baa5ffc5e0aa71",
       "version_major": 2,
       "version_minor": 0
      },
      "text/plain": [
       "  0%|          | 0/157 [00:00<?, ?it/s]"
      ]
     },
     "metadata": {},
     "output_type": "display_data"
    },
    {
     "name": "stdout",
     "output_type": "stream",
     "text": [
      "Epoch 38 val loss: 385.68193, test acc: 9.95223\n"
     ]
    },
    {
     "data": {
      "application/vnd.jupyter.widget-view+json": {
       "model_id": "6eb21a38577a43ed8f011053e1fc2d73",
       "version_major": 2,
       "version_minor": 0
      },
      "text/plain": [
       "  0%|          | 0/782 [00:00<?, ?it/s]"
      ]
     },
     "metadata": {},
     "output_type": "display_data"
    },
    {
     "name": "stdout",
     "output_type": "stream",
     "text": [
      "Epoch 39, batch index 0 || train loss: 2.461775541305542, train acc: 14.0625\n",
      "Epoch 39, batch index 100 || train loss: 2.4587873893209022, train acc: 10.411509900990099\n",
      "Epoch 39, batch index 200 || train loss: 2.46665236250085, train acc: 9.888059701492537\n",
      "Epoch 39, batch index 300 || train loss: 2.4652641207672827, train acc: 10.127699335548172\n",
      "Epoch 39, batch index 400 || train loss: 2.464323242406298, train acc: 10.138715710723192\n",
      "Epoch 39, batch index 500 || train loss: 2.4608861605326333, train acc: 10.179640718562874\n",
      "Epoch 39, batch index 600 || train loss: 2.4609850619279605, train acc: 10.058756239600665\n",
      "Epoch 39, batch index 700 || train loss: 2.4599799633706345, train acc: 10.074893009985734\n"
     ]
    },
    {
     "data": {
      "application/vnd.jupyter.widget-view+json": {
       "model_id": "e590c3d59e834d7f8be2dbec87ff6481",
       "version_major": 2,
       "version_minor": 0
      },
      "text/plain": [
       "  0%|          | 0/157 [00:00<?, ?it/s]"
      ]
     },
     "metadata": {},
     "output_type": "display_data"
    },
    {
     "name": "stdout",
     "output_type": "stream",
     "text": [
      "Epoch 39 val loss: 385.68193, test acc: 9.95223\n"
     ]
    },
    {
     "data": {
      "application/vnd.jupyter.widget-view+json": {
       "model_id": "49edeb3a9f9c44088451225c2d5cb7d9",
       "version_major": 2,
       "version_minor": 0
      },
      "text/plain": [
       "  0%|          | 0/782 [00:00<?, ?it/s]"
      ]
     },
     "metadata": {},
     "output_type": "display_data"
    },
    {
     "name": "stdout",
     "output_type": "stream",
     "text": [
      "Epoch 40, batch index 0 || train loss: 2.5220398902893066, train acc: 7.8125\n",
      "Epoch 40, batch index 100 || train loss: 2.4634613660302493, train acc: 10.581683168316832\n",
      "Epoch 40, batch index 200 || train loss: 2.465385130981901, train acc: 10.113495024875622\n",
      "Epoch 40, batch index 300 || train loss: 2.4679367566029495, train acc: 10.003114617940199\n",
      "Epoch 40, batch index 400 || train loss: 2.4652165849309906, train acc: 10.006234413965087\n",
      "Epoch 40, batch index 500 || train loss: 2.4634714683372816, train acc: 10.04553393213573\n",
      "Epoch 40, batch index 600 || train loss: 2.461848513258872, train acc: 10.02495840266223\n",
      "Epoch 40, batch index 700 || train loss: 2.4627081188087625, train acc: 10.021398002853067\n"
     ]
    },
    {
     "data": {
      "application/vnd.jupyter.widget-view+json": {
       "model_id": "067665ad665e45d6aa3c39fb2e8af593",
       "version_major": 2,
       "version_minor": 0
      },
      "text/plain": [
       "  0%|          | 0/157 [00:00<?, ?it/s]"
      ]
     },
     "metadata": {},
     "output_type": "display_data"
    },
    {
     "name": "stdout",
     "output_type": "stream",
     "text": [
      "Epoch 40 val loss: 385.68193, test acc: 9.95223\n"
     ]
    },
    {
     "data": {
      "application/vnd.jupyter.widget-view+json": {
       "model_id": "c0eb44af5c624db1a2b5993e5807b35a",
       "version_major": 2,
       "version_minor": 0
      },
      "text/plain": [
       "  0%|          | 0/782 [00:00<?, ?it/s]"
      ]
     },
     "metadata": {},
     "output_type": "display_data"
    },
    {
     "name": "stdout",
     "output_type": "stream",
     "text": [
      "Epoch 41, batch index 0 || train loss: 2.462698221206665, train acc: 12.5\n",
      "Epoch 41, batch index 100 || train loss: 2.462041765156359, train acc: 10.024752475247524\n",
      "Epoch 41, batch index 200 || train loss: 2.4572183943506496, train acc: 10.113495024875622\n",
      "Epoch 41, batch index 300 || train loss: 2.4563086349702754, train acc: 10.164036544850498\n",
      "Epoch 41, batch index 400 || train loss: 2.4600346623513465, train acc: 10.146508728179551\n",
      "Epoch 41, batch index 500 || train loss: 2.4607555285661284, train acc: 10.017465069860279\n",
      "Epoch 41, batch index 600 || train loss: 2.461562191587121, train acc: 10.037957570715474\n",
      "Epoch 41, batch index 700 || train loss: 2.462289281646467, train acc: 10.072664051355208\n"
     ]
    },
    {
     "data": {
      "application/vnd.jupyter.widget-view+json": {
       "model_id": "c5b463af42954cfd9e1cc2c5c4da0949",
       "version_major": 2,
       "version_minor": 0
      },
      "text/plain": [
       "  0%|          | 0/157 [00:00<?, ?it/s]"
      ]
     },
     "metadata": {},
     "output_type": "display_data"
    },
    {
     "name": "stdout",
     "output_type": "stream",
     "text": [
      "Epoch 41 val loss: 385.68193, test acc: 9.95223\n"
     ]
    },
    {
     "data": {
      "application/vnd.jupyter.widget-view+json": {
       "model_id": "87302cf9ac374556b012ca4f08a5ad58",
       "version_major": 2,
       "version_minor": 0
      },
      "text/plain": [
       "  0%|          | 0/782 [00:00<?, ?it/s]"
      ]
     },
     "metadata": {},
     "output_type": "display_data"
    },
    {
     "name": "stdout",
     "output_type": "stream",
     "text": [
      "Epoch 42, batch index 0 || train loss: 2.3851442337036133, train acc: 12.5\n",
      "Epoch 42, batch index 100 || train loss: 2.465361689577008, train acc: 9.823638613861386\n",
      "Epoch 42, batch index 200 || train loss: 2.4645922278883443, train acc: 9.926927860696518\n",
      "Epoch 42, batch index 300 || train loss: 2.463015678317048, train acc: 10.003114617940199\n",
      "Epoch 42, batch index 400 || train loss: 2.460175448225026, train acc: 10.06857855361596\n",
      "Epoch 42, batch index 500 || train loss: 2.4636560723691168, train acc: 9.945733532934131\n",
      "Epoch 42, batch index 600 || train loss: 2.461867999713155, train acc: 10.019758735440933\n",
      "Epoch 42, batch index 700 || train loss: 2.4613952010912494, train acc: 10.06820613409415\n"
     ]
    },
    {
     "data": {
      "application/vnd.jupyter.widget-view+json": {
       "model_id": "9e3925140619414d875ece810d289b74",
       "version_major": 2,
       "version_minor": 0
      },
      "text/plain": [
       "  0%|          | 0/157 [00:00<?, ?it/s]"
      ]
     },
     "metadata": {},
     "output_type": "display_data"
    },
    {
     "name": "stdout",
     "output_type": "stream",
     "text": [
      "Epoch 42 val loss: 385.68193, test acc: 9.95223\n"
     ]
    },
    {
     "data": {
      "application/vnd.jupyter.widget-view+json": {
       "model_id": "af536b9253234f08aa1cf4e9661c6126",
       "version_major": 2,
       "version_minor": 0
      },
      "text/plain": [
       "  0%|          | 0/782 [00:00<?, ?it/s]"
      ]
     },
     "metadata": {},
     "output_type": "display_data"
    },
    {
     "name": "stdout",
     "output_type": "stream",
     "text": [
      "Epoch 43, batch index 0 || train loss: 2.490438461303711, train acc: 6.25\n",
      "Epoch 43, batch index 100 || train loss: 2.4564202020664028, train acc: 9.885519801980198\n",
      "Epoch 43, batch index 200 || train loss: 2.4605454639415836, train acc: 10.284514925373134\n",
      "Epoch 43, batch index 300 || train loss: 2.464224864478127, train acc: 10.252284053156146\n",
      "Epoch 43, batch index 400 || train loss: 2.4656569922059552, train acc: 10.15430174563591\n",
      "Epoch 43, batch index 500 || train loss: 2.4623991239094685, train acc: 10.145334331337326\n",
      "Epoch 43, batch index 600 || train loss: 2.4616939846965518, train acc: 10.110752911813645\n",
      "Epoch 43, batch index 700 || train loss: 2.4620532118814986, train acc: 10.06820613409415\n"
     ]
    },
    {
     "data": {
      "application/vnd.jupyter.widget-view+json": {
       "model_id": "d54b0e4347a040d39ea0b242fda644df",
       "version_major": 2,
       "version_minor": 0
      },
      "text/plain": [
       "  0%|          | 0/157 [00:00<?, ?it/s]"
      ]
     },
     "metadata": {},
     "output_type": "display_data"
    },
    {
     "name": "stdout",
     "output_type": "stream",
     "text": [
      "Epoch 43 val loss: 385.68193, test acc: 9.95223\n"
     ]
    },
    {
     "data": {
      "application/vnd.jupyter.widget-view+json": {
       "model_id": "2fa17c4b88a54879a787a1593ff3d4ab",
       "version_major": 2,
       "version_minor": 0
      },
      "text/plain": [
       "  0%|          | 0/782 [00:00<?, ?it/s]"
      ]
     },
     "metadata": {},
     "output_type": "display_data"
    },
    {
     "name": "stdout",
     "output_type": "stream",
     "text": [
      "Epoch 44, batch index 0 || train loss: 2.5964834690093994, train acc: 4.6875\n",
      "Epoch 44, batch index 100 || train loss: 2.4630569231392134, train acc: 10.024752475247524\n",
      "Epoch 44, batch index 200 || train loss: 2.4646391702528616, train acc: 9.958022388059701\n",
      "Epoch 44, batch index 300 || train loss: 2.464428570579453, train acc: 10.013496677740864\n",
      "Epoch 44, batch index 400 || train loss: 2.4632041953745625, train acc: 9.865960099750623\n",
      "Epoch 44, batch index 500 || train loss: 2.465256336920276, train acc: 9.892714570858283\n",
      "Epoch 44, batch index 600 || train loss: 2.463850582697229, train acc: 9.907965890183029\n",
      "Epoch 44, batch index 700 || train loss: 2.463479455289419, train acc: 9.958987161198289\n"
     ]
    },
    {
     "data": {
      "application/vnd.jupyter.widget-view+json": {
       "model_id": "d8a3ee7ec83c43aa9f79f1990a982bc2",
       "version_major": 2,
       "version_minor": 0
      },
      "text/plain": [
       "  0%|          | 0/157 [00:00<?, ?it/s]"
      ]
     },
     "metadata": {},
     "output_type": "display_data"
    },
    {
     "name": "stdout",
     "output_type": "stream",
     "text": [
      "Epoch 44 val loss: 385.68193, test acc: 9.95223\n"
     ]
    },
    {
     "data": {
      "application/vnd.jupyter.widget-view+json": {
       "model_id": "aa3a815dfcdb415dae2356c8beea0e64",
       "version_major": 2,
       "version_minor": 0
      },
      "text/plain": [
       "  0%|          | 0/782 [00:00<?, ?it/s]"
      ]
     },
     "metadata": {},
     "output_type": "display_data"
    },
    {
     "name": "stdout",
     "output_type": "stream",
     "text": [
      "Epoch 45, batch index 0 || train loss: 2.372812509536743, train acc: 14.0625\n",
      "Epoch 45, batch index 100 || train loss: 2.457499374257456, train acc: 10.256806930693068\n",
      "Epoch 45, batch index 200 || train loss: 2.457555789852617, train acc: 10.113495024875622\n",
      "Epoch 45, batch index 300 || train loss: 2.4634985551485586, train acc: 9.946013289036545\n",
      "Epoch 45, batch index 400 || train loss: 2.46357973971569, train acc: 9.916614713216958\n",
      "Epoch 45, batch index 500 || train loss: 2.462507191770329, train acc: 9.867764471057884\n",
      "Epoch 45, batch index 600 || train loss: 2.463282328080417, train acc: 9.835170549084859\n",
      "Epoch 45, batch index 700 || train loss: 2.463498692029553, train acc: 9.925552781740372\n"
     ]
    },
    {
     "data": {
      "application/vnd.jupyter.widget-view+json": {
       "model_id": "1dde4794a4bf46c7908e18e22c3c2edf",
       "version_major": 2,
       "version_minor": 0
      },
      "text/plain": [
       "  0%|          | 0/157 [00:00<?, ?it/s]"
      ]
     },
     "metadata": {},
     "output_type": "display_data"
    },
    {
     "name": "stdout",
     "output_type": "stream",
     "text": [
      "Epoch 45 val loss: 385.68193, test acc: 9.95223\n"
     ]
    },
    {
     "data": {
      "application/vnd.jupyter.widget-view+json": {
       "model_id": "66b01d200024411d82621c5cb0f98546",
       "version_major": 2,
       "version_minor": 0
      },
      "text/plain": [
       "  0%|          | 0/782 [00:00<?, ?it/s]"
      ]
     },
     "metadata": {},
     "output_type": "display_data"
    },
    {
     "name": "stdout",
     "output_type": "stream",
     "text": [
      "Epoch 46, batch index 0 || train loss: 2.6460585594177246, train acc: 4.6875\n",
      "Epoch 46, batch index 100 || train loss: 2.462415350545751, train acc: 9.746287128712872\n",
      "Epoch 46, batch index 200 || train loss: 2.4599735879186375, train acc: 9.98134328358209\n",
      "Epoch 46, batch index 300 || train loss: 2.4626721115999444, train acc: 10.096553156146179\n",
      "Epoch 46, batch index 400 || train loss: 2.462944610457765, train acc: 10.181577306733168\n",
      "Epoch 46, batch index 500 || train loss: 2.462839491115121, train acc: 10.117265469061877\n",
      "Epoch 46, batch index 600 || train loss: 2.462817459852247, train acc: 10.123752079866888\n",
      "Epoch 46, batch index 700 || train loss: 2.4627057696545176, train acc: 10.061519258202567\n"
     ]
    },
    {
     "data": {
      "application/vnd.jupyter.widget-view+json": {
       "model_id": "ecb36cab69d747bf963edc68b707ecf9",
       "version_major": 2,
       "version_minor": 0
      },
      "text/plain": [
       "  0%|          | 0/157 [00:00<?, ?it/s]"
      ]
     },
     "metadata": {},
     "output_type": "display_data"
    },
    {
     "name": "stdout",
     "output_type": "stream",
     "text": [
      "Epoch 46 val loss: 385.68193, test acc: 9.95223\n"
     ]
    },
    {
     "data": {
      "application/vnd.jupyter.widget-view+json": {
       "model_id": "121fdc1cac5e49f1a57d042e53cbccf6",
       "version_major": 2,
       "version_minor": 0
      },
      "text/plain": [
       "  0%|          | 0/782 [00:00<?, ?it/s]"
      ]
     },
     "metadata": {},
     "output_type": "display_data"
    },
    {
     "name": "stdout",
     "output_type": "stream",
     "text": [
      "Epoch 47, batch index 0 || train loss: 2.4710323810577393, train acc: 12.5\n",
      "Epoch 47, batch index 100 || train loss: 2.4567339184260604, train acc: 10.148514851485148\n",
      "Epoch 47, batch index 200 || train loss: 2.459890128368169, train acc: 9.841417910447761\n",
      "Epoch 47, batch index 300 || train loss: 2.4618233224482235, train acc: 9.904485049833887\n",
      "Epoch 47, batch index 400 || train loss: 2.4582530465209276, train acc: 10.185473815461346\n",
      "Epoch 47, batch index 500 || train loss: 2.4607616460727835, train acc: 10.089196606786427\n",
      "Epoch 47, batch index 600 || train loss: 2.4605746471544667, train acc: 10.139351081530782\n",
      "Epoch 47, batch index 700 || train loss: 2.462639073672546, train acc: 10.003566333808845\n"
     ]
    },
    {
     "data": {
      "application/vnd.jupyter.widget-view+json": {
       "model_id": "0c7c2d2d9c144475952118a79d167f2f",
       "version_major": 2,
       "version_minor": 0
      },
      "text/plain": [
       "  0%|          | 0/157 [00:00<?, ?it/s]"
      ]
     },
     "metadata": {},
     "output_type": "display_data"
    },
    {
     "name": "stdout",
     "output_type": "stream",
     "text": [
      "Epoch 47 val loss: 385.68193, test acc: 9.95223\n"
     ]
    },
    {
     "data": {
      "application/vnd.jupyter.widget-view+json": {
       "model_id": "87a33c152f404dd29e387383d043c52f",
       "version_major": 2,
       "version_minor": 0
      },
      "text/plain": [
       "  0%|          | 0/782 [00:00<?, ?it/s]"
      ]
     },
     "metadata": {},
     "output_type": "display_data"
    },
    {
     "name": "stdout",
     "output_type": "stream",
     "text": [
      "Epoch 48, batch index 0 || train loss: 2.5914499759674072, train acc: 7.8125\n",
      "Epoch 48, batch index 100 || train loss: 2.45918341910485, train acc: 10.566212871287128\n",
      "Epoch 48, batch index 200 || train loss: 2.4635364202717644, train acc: 10.307835820895523\n",
      "Epoch 48, batch index 300 || train loss: 2.4649777792616936, train acc: 9.992732558139535\n",
      "Epoch 48, batch index 400 || train loss: 2.464349065338287, train acc: 10.014027431421447\n",
      "Epoch 48, batch index 500 || train loss: 2.463697230268619, train acc: 9.951971057884231\n",
      "Epoch 48, batch index 600 || train loss: 2.4616577855362474, train acc: 9.99896006655574\n",
      "Epoch 48, batch index 700 || train loss: 2.46077874757764, train acc: 9.992421540656206\n"
     ]
    },
    {
     "data": {
      "application/vnd.jupyter.widget-view+json": {
       "model_id": "30656323d70f4496be80b7c69351e0da",
       "version_major": 2,
       "version_minor": 0
      },
      "text/plain": [
       "  0%|          | 0/157 [00:00<?, ?it/s]"
      ]
     },
     "metadata": {},
     "output_type": "display_data"
    },
    {
     "name": "stdout",
     "output_type": "stream",
     "text": [
      "Epoch 48 val loss: 385.68193, test acc: 9.95223\n"
     ]
    },
    {
     "data": {
      "application/vnd.jupyter.widget-view+json": {
       "model_id": "1595336e1d18437cb9b10b581e7aa23e",
       "version_major": 2,
       "version_minor": 0
      },
      "text/plain": [
       "  0%|          | 0/782 [00:00<?, ?it/s]"
      ]
     },
     "metadata": {},
     "output_type": "display_data"
    },
    {
     "name": "stdout",
     "output_type": "stream",
     "text": [
      "Epoch 49, batch index 0 || train loss: 2.509634494781494, train acc: 7.8125\n",
      "Epoch 49, batch index 100 || train loss: 2.462549148219647, train acc: 9.854579207920793\n",
      "Epoch 49, batch index 200 || train loss: 2.459758719401573, train acc: 10.338930348258707\n",
      "Epoch 49, batch index 300 || train loss: 2.4623367643831577, train acc: 10.257475083056478\n",
      "Epoch 49, batch index 400 || train loss: 2.460948212188378, train acc: 10.146508728179551\n",
      "Epoch 49, batch index 500 || train loss: 2.4604606062114356, train acc: 10.185878243512974\n",
      "Epoch 49, batch index 600 || train loss: 2.4609471228277426, train acc: 10.079554908485857\n",
      "Epoch 49, batch index 700 || train loss: 2.4610324048791905, train acc: 10.041458630527817\n"
     ]
    },
    {
     "data": {
      "application/vnd.jupyter.widget-view+json": {
       "model_id": "5ecb620188774a7980be546fa5320708",
       "version_major": 2,
       "version_minor": 0
      },
      "text/plain": [
       "  0%|          | 0/157 [00:00<?, ?it/s]"
      ]
     },
     "metadata": {},
     "output_type": "display_data"
    },
    {
     "name": "stdout",
     "output_type": "stream",
     "text": [
      "Epoch 49 val loss: 385.68193, test acc: 9.95223\n"
     ]
    },
    {
     "data": {
      "application/vnd.jupyter.widget-view+json": {
       "model_id": "eb8b78a722b540a482d029949d20ae5d",
       "version_major": 2,
       "version_minor": 0
      },
      "text/plain": [
       "  0%|          | 0/782 [00:00<?, ?it/s]"
      ]
     },
     "metadata": {},
     "output_type": "display_data"
    },
    {
     "name": "stdout",
     "output_type": "stream",
     "text": [
      "Epoch 50, batch index 0 || train loss: 2.464236259460449, train acc: 4.6875\n",
      "Epoch 50, batch index 100 || train loss: 2.458924930874664, train acc: 9.436881188118813\n",
      "Epoch 50, batch index 200 || train loss: 2.4552672597306286, train acc: 9.856965174129353\n",
      "Epoch 50, batch index 300 || train loss: 2.4602520244066106, train acc: 9.868147840531561\n",
      "Epoch 50, batch index 400 || train loss: 2.4618339710996633, train acc: 9.98285536159601\n",
      "Epoch 50, batch index 500 || train loss: 2.462947998694079, train acc: 9.948852295409182\n",
      "Epoch 50, batch index 600 || train loss: 2.4609725741102375, train acc: 10.035357737104825\n",
      "Epoch 50, batch index 700 || train loss: 2.4612164062032007, train acc: 9.99910841654779\n"
     ]
    },
    {
     "data": {
      "application/vnd.jupyter.widget-view+json": {
       "model_id": "8adde4ff5f5746229d0266b488c74217",
       "version_major": 2,
       "version_minor": 0
      },
      "text/plain": [
       "  0%|          | 0/157 [00:00<?, ?it/s]"
      ]
     },
     "metadata": {},
     "output_type": "display_data"
    },
    {
     "name": "stdout",
     "output_type": "stream",
     "text": [
      "Epoch 50 val loss: 385.68193, test acc: 9.95223\n"
     ]
    },
    {
     "data": {
      "application/vnd.jupyter.widget-view+json": {
       "model_id": "df83f7625b03466792a020e2c28ce9f7",
       "version_major": 2,
       "version_minor": 0
      },
      "text/plain": [
       "  0%|          | 0/782 [00:00<?, ?it/s]"
      ]
     },
     "metadata": {},
     "output_type": "display_data"
    },
    {
     "name": "stdout",
     "output_type": "stream",
     "text": [
      "Epoch 51, batch index 0 || train loss: 2.438786745071411, train acc: 9.375\n",
      "Epoch 51, batch index 100 || train loss: 2.465358401289081, train acc: 10.117574257425742\n",
      "Epoch 51, batch index 200 || train loss: 2.4667761966363706, train acc: 10.004664179104477\n",
      "Epoch 51, batch index 300 || train loss: 2.464842812959538, train acc: 10.044642857142858\n",
      "Epoch 51, batch index 400 || train loss: 2.4621057599559983, train acc: 10.06468204488778\n",
      "Epoch 51, batch index 500 || train loss: 2.461077842407836, train acc: 9.98315868263473\n",
      "Epoch 51, batch index 600 || train loss: 2.4582047351386502, train acc: 10.066555740432612\n",
      "Epoch 51, batch index 700 || train loss: 2.459672176888938, train acc: 10.021398002853067\n"
     ]
    },
    {
     "data": {
      "application/vnd.jupyter.widget-view+json": {
       "model_id": "cc7d2af343964276887eed008ea4d8fe",
       "version_major": 2,
       "version_minor": 0
      },
      "text/plain": [
       "  0%|          | 0/157 [00:00<?, ?it/s]"
      ]
     },
     "metadata": {},
     "output_type": "display_data"
    },
    {
     "name": "stdout",
     "output_type": "stream",
     "text": [
      "Epoch 51 val loss: 385.68193, test acc: 9.95223\n"
     ]
    },
    {
     "data": {
      "application/vnd.jupyter.widget-view+json": {
       "model_id": "f40fdc419f8c4f0c8478b074fde5586a",
       "version_major": 2,
       "version_minor": 0
      },
      "text/plain": [
       "  0%|          | 0/782 [00:00<?, ?it/s]"
      ]
     },
     "metadata": {},
     "output_type": "display_data"
    },
    {
     "name": "stdout",
     "output_type": "stream",
     "text": [
      "Epoch 52, batch index 0 || train loss: 2.430954933166504, train acc: 10.9375\n",
      "Epoch 52, batch index 100 || train loss: 2.446538191030521, train acc: 10.844678217821782\n",
      "Epoch 52, batch index 200 || train loss: 2.4544840262303897, train acc: 10.338930348258707\n",
      "Epoch 52, batch index 300 || train loss: 2.457631751152368, train acc: 10.215946843853821\n",
      "Epoch 52, batch index 400 || train loss: 2.460537102454321, train acc: 10.185473815461346\n",
      "Epoch 52, batch index 500 || train loss: 2.459408260391144, train acc: 10.188997005988025\n",
      "Epoch 52, batch index 600 || train loss: 2.4589215745148367, train acc: 10.136751247920133\n",
      "Epoch 52, batch index 700 || train loss: 2.461373776750116, train acc: 9.958987161198289\n"
     ]
    },
    {
     "data": {
      "application/vnd.jupyter.widget-view+json": {
       "model_id": "33407c4296084c6a87822079d8b8f548",
       "version_major": 2,
       "version_minor": 0
      },
      "text/plain": [
       "  0%|          | 0/157 [00:00<?, ?it/s]"
      ]
     },
     "metadata": {},
     "output_type": "display_data"
    },
    {
     "name": "stdout",
     "output_type": "stream",
     "text": [
      "Epoch 52 val loss: 385.68193, test acc: 9.95223\n"
     ]
    },
    {
     "data": {
      "application/vnd.jupyter.widget-view+json": {
       "model_id": "01602f395ef14418be7b540598fa1c38",
       "version_major": 2,
       "version_minor": 0
      },
      "text/plain": [
       "  0%|          | 0/782 [00:00<?, ?it/s]"
      ]
     },
     "metadata": {},
     "output_type": "display_data"
    },
    {
     "name": "stdout",
     "output_type": "stream",
     "text": [
      "Epoch 53, batch index 0 || train loss: 2.4232017993927, train acc: 12.5\n",
      "Epoch 53, batch index 100 || train loss: 2.4573031368822154, train acc: 10.952970297029703\n",
      "Epoch 53, batch index 200 || train loss: 2.45968782367991, train acc: 10.541044776119403\n",
      "Epoch 53, batch index 300 || train loss: 2.4601993529107484, train acc: 10.37686877076412\n",
      "Epoch 53, batch index 400 || train loss: 2.46249595544582, train acc: 10.142612219451372\n",
      "Epoch 53, batch index 500 || train loss: 2.463277424642902, train acc: 10.101671656686626\n",
      "Epoch 53, batch index 600 || train loss: 2.4626029763562904, train acc: 10.149750415973378\n",
      "Epoch 53, batch index 700 || train loss: 2.464269075516117, train acc: 10.079350927246791\n"
     ]
    },
    {
     "data": {
      "application/vnd.jupyter.widget-view+json": {
       "model_id": "79009d3c970a425890386207a6ec2951",
       "version_major": 2,
       "version_minor": 0
      },
      "text/plain": [
       "  0%|          | 0/157 [00:00<?, ?it/s]"
      ]
     },
     "metadata": {},
     "output_type": "display_data"
    },
    {
     "name": "stdout",
     "output_type": "stream",
     "text": [
      "Epoch 53 val loss: 385.68193, test acc: 9.95223\n"
     ]
    },
    {
     "data": {
      "application/vnd.jupyter.widget-view+json": {
       "model_id": "b94c9ecf42d8415799dee6616573bf92",
       "version_major": 2,
       "version_minor": 0
      },
      "text/plain": [
       "  0%|          | 0/782 [00:00<?, ?it/s]"
      ]
     },
     "metadata": {},
     "output_type": "display_data"
    },
    {
     "name": "stdout",
     "output_type": "stream",
     "text": [
      "Epoch 54, batch index 0 || train loss: 2.4989230632781982, train acc: 6.25\n",
      "Epoch 54, batch index 100 || train loss: 2.464098793445247, train acc: 9.637995049504951\n",
      "Epoch 54, batch index 200 || train loss: 2.4609367835581004, train acc: 10.020211442786069\n",
      "Epoch 54, batch index 300 || train loss: 2.4635053219589285, train acc: 10.023878737541528\n",
      "Epoch 54, batch index 400 || train loss: 2.4640615081549284, train acc: 10.06468204488778\n",
      "Epoch 54, batch index 500 || train loss: 2.4635201904350175, train acc: 10.017465069860279\n",
      "Epoch 54, batch index 600 || train loss: 2.4619644798970657, train acc: 10.066555740432612\n",
      "Epoch 54, batch index 700 || train loss: 2.4627029035298866, train acc: 9.97904778887304\n"
     ]
    },
    {
     "data": {
      "application/vnd.jupyter.widget-view+json": {
       "model_id": "b331d954dabc44d99483e98bc7085120",
       "version_major": 2,
       "version_minor": 0
      },
      "text/plain": [
       "  0%|          | 0/157 [00:00<?, ?it/s]"
      ]
     },
     "metadata": {},
     "output_type": "display_data"
    },
    {
     "name": "stdout",
     "output_type": "stream",
     "text": [
      "Epoch 54 val loss: 385.68193, test acc: 9.95223\n"
     ]
    },
    {
     "data": {
      "application/vnd.jupyter.widget-view+json": {
       "model_id": "2cf5725e2fee4cd7a0e8fb99c34ae431",
       "version_major": 2,
       "version_minor": 0
      },
      "text/plain": [
       "  0%|          | 0/782 [00:00<?, ?it/s]"
      ]
     },
     "metadata": {},
     "output_type": "display_data"
    },
    {
     "name": "stdout",
     "output_type": "stream",
     "text": [
      "Epoch 55, batch index 0 || train loss: 2.498764753341675, train acc: 10.9375\n",
      "Epoch 55, batch index 100 || train loss: 2.4592893572136907, train acc: 10.071163366336634\n",
      "Epoch 55, batch index 200 || train loss: 2.4564285717200285, train acc: 10.074626865671641\n",
      "Epoch 55, batch index 300 || train loss: 2.457399603536359, train acc: 10.080980066445182\n",
      "Epoch 55, batch index 400 || train loss: 2.4604666453049964, train acc: 9.869856608478804\n",
      "Epoch 55, batch index 500 || train loss: 2.461431748376873, train acc: 9.911427145708583\n",
      "Epoch 55, batch index 600 || train loss: 2.4603714367712595, train acc: 10.022358569051582\n",
      "Epoch 55, batch index 700 || train loss: 2.461423916415379, train acc: 9.963445078459344\n"
     ]
    },
    {
     "data": {
      "application/vnd.jupyter.widget-view+json": {
       "model_id": "054684d9659a49d1b21c7f520491f25d",
       "version_major": 2,
       "version_minor": 0
      },
      "text/plain": [
       "  0%|          | 0/157 [00:00<?, ?it/s]"
      ]
     },
     "metadata": {},
     "output_type": "display_data"
    },
    {
     "name": "stdout",
     "output_type": "stream",
     "text": [
      "Epoch 55 val loss: 385.68193, test acc: 9.95223\n"
     ]
    },
    {
     "data": {
      "application/vnd.jupyter.widget-view+json": {
       "model_id": "4d548d4defa4454b8e46593b3a6c235c",
       "version_major": 2,
       "version_minor": 0
      },
      "text/plain": [
       "  0%|          | 0/782 [00:00<?, ?it/s]"
      ]
     },
     "metadata": {},
     "output_type": "display_data"
    },
    {
     "name": "stdout",
     "output_type": "stream",
     "text": [
      "Epoch 56, batch index 0 || train loss: 2.5194954872131348, train acc: 10.9375\n",
      "Epoch 56, batch index 100 || train loss: 2.465404423156587, train acc: 9.560643564356436\n",
      "Epoch 56, batch index 200 || train loss: 2.4649865461226126, train acc: 9.584888059701493\n",
      "Epoch 56, batch index 300 || train loss: 2.4642787043042356, train acc: 9.857765780730897\n",
      "Epoch 56, batch index 400 || train loss: 2.4635164398802187, train acc: 9.990648379052368\n",
      "Epoch 56, batch index 500 || train loss: 2.4642469692610933, train acc: 9.967564870259482\n",
      "Epoch 56, batch index 600 || train loss: 2.46282191363825, train acc: 9.941763727121463\n",
      "Epoch 56, batch index 700 || train loss: 2.462096009887064, train acc: 10.014711126961483\n"
     ]
    },
    {
     "data": {
      "application/vnd.jupyter.widget-view+json": {
       "model_id": "55e9e5b7763a481daad8c7d928c08f99",
       "version_major": 2,
       "version_minor": 0
      },
      "text/plain": [
       "  0%|          | 0/157 [00:00<?, ?it/s]"
      ]
     },
     "metadata": {},
     "output_type": "display_data"
    },
    {
     "name": "stdout",
     "output_type": "stream",
     "text": [
      "Epoch 56 val loss: 385.68193, test acc: 9.95223\n"
     ]
    },
    {
     "data": {
      "application/vnd.jupyter.widget-view+json": {
       "model_id": "fedfcf297fc7457ca8966b503c3e5959",
       "version_major": 2,
       "version_minor": 0
      },
      "text/plain": [
       "  0%|          | 0/782 [00:00<?, ?it/s]"
      ]
     },
     "metadata": {},
     "output_type": "display_data"
    },
    {
     "name": "stdout",
     "output_type": "stream",
     "text": [
      "Epoch 57, batch index 0 || train loss: 2.508751153945923, train acc: 9.375\n",
      "Epoch 57, batch index 100 || train loss: 2.4730433402675214, train acc: 9.746287128712872\n",
      "Epoch 57, batch index 200 || train loss: 2.466671712362944, train acc: 9.950248756218905\n",
      "Epoch 57, batch index 300 || train loss: 2.461887160804977, train acc: 10.117317275747508\n",
      "Epoch 57, batch index 400 || train loss: 2.460690839034958, train acc: 10.177680798004987\n",
      "Epoch 57, batch index 500 || train loss: 2.4627775855644973, train acc: 10.079840319361278\n",
      "Epoch 57, batch index 600 || train loss: 2.4632810606139275, train acc: 10.030158069883527\n",
      "Epoch 57, batch index 700 || train loss: 2.463092579821207, train acc: 10.001337375178316\n"
     ]
    },
    {
     "data": {
      "application/vnd.jupyter.widget-view+json": {
       "model_id": "46464205a8854e92b47349ed57be7c0f",
       "version_major": 2,
       "version_minor": 0
      },
      "text/plain": [
       "  0%|          | 0/157 [00:00<?, ?it/s]"
      ]
     },
     "metadata": {},
     "output_type": "display_data"
    },
    {
     "name": "stdout",
     "output_type": "stream",
     "text": [
      "Epoch 57 val loss: 385.68193, test acc: 9.95223\n"
     ]
    },
    {
     "data": {
      "application/vnd.jupyter.widget-view+json": {
       "model_id": "b86ad670af9e47388bcc993f344202f8",
       "version_major": 2,
       "version_minor": 0
      },
      "text/plain": [
       "  0%|          | 0/782 [00:00<?, ?it/s]"
      ]
     },
     "metadata": {},
     "output_type": "display_data"
    },
    {
     "name": "stdout",
     "output_type": "stream",
     "text": [
      "Epoch 58, batch index 0 || train loss: 2.437537431716919, train acc: 7.8125\n",
      "Epoch 58, batch index 100 || train loss: 2.4558587097885587, train acc: 9.854579207920793\n",
      "Epoch 58, batch index 200 || train loss: 2.4619104020038054, train acc: 9.732587064676617\n",
      "Epoch 58, batch index 300 || train loss: 2.4604182084929507, train acc: 9.977159468438538\n",
      "Epoch 58, batch index 400 || train loss: 2.4598724449661904, train acc: 9.998441396508728\n",
      "Epoch 58, batch index 500 || train loss: 2.459388717681824, train acc: 10.132859281437126\n",
      "Epoch 58, batch index 600 || train loss: 2.4607768626062327, train acc: 10.07175540765391\n",
      "Epoch 58, batch index 700 || train loss: 2.4606393148827657, train acc: 10.126159058487875\n"
     ]
    },
    {
     "data": {
      "application/vnd.jupyter.widget-view+json": {
       "model_id": "79d5c9e1bd234550b3fd751964f32385",
       "version_major": 2,
       "version_minor": 0
      },
      "text/plain": [
       "  0%|          | 0/157 [00:00<?, ?it/s]"
      ]
     },
     "metadata": {},
     "output_type": "display_data"
    },
    {
     "name": "stdout",
     "output_type": "stream",
     "text": [
      "Epoch 58 val loss: 385.68193, test acc: 9.95223\n"
     ]
    },
    {
     "data": {
      "application/vnd.jupyter.widget-view+json": {
       "model_id": "62b30daca8c74b168686146c34b1fac0",
       "version_major": 2,
       "version_minor": 0
      },
      "text/plain": [
       "  0%|          | 0/782 [00:00<?, ?it/s]"
      ]
     },
     "metadata": {},
     "output_type": "display_data"
    },
    {
     "name": "stdout",
     "output_type": "stream",
     "text": [
      "Epoch 59, batch index 0 || train loss: 2.527143716812134, train acc: 6.25\n",
      "Epoch 59, batch index 100 || train loss: 2.464089554135162, train acc: 9.607054455445544\n",
      "Epoch 59, batch index 200 || train loss: 2.4576611839123625, train acc: 10.17568407960199\n",
      "Epoch 59, batch index 300 || train loss: 2.459576364371468, train acc: 10.148463455149502\n",
      "Epoch 59, batch index 400 || train loss: 2.4614076780856697, train acc: 10.041302992518704\n",
      "Epoch 59, batch index 500 || train loss: 2.461818462360405, train acc: 10.05177145708583\n",
      "Epoch 59, batch index 600 || train loss: 2.461337434273591, train acc: 10.02495840266223\n",
      "Epoch 59, batch index 700 || train loss: 2.46174197156147, train acc: 10.037000713266762\n"
     ]
    },
    {
     "data": {
      "application/vnd.jupyter.widget-view+json": {
       "model_id": "31ad1e6450184898806f0de9c6ee9748",
       "version_major": 2,
       "version_minor": 0
      },
      "text/plain": [
       "  0%|          | 0/157 [00:00<?, ?it/s]"
      ]
     },
     "metadata": {},
     "output_type": "display_data"
    },
    {
     "name": "stdout",
     "output_type": "stream",
     "text": [
      "Epoch 59 val loss: 385.68193, test acc: 9.95223\n"
     ]
    },
    {
     "data": {
      "application/vnd.jupyter.widget-view+json": {
       "model_id": "80602e42cc8a439ea61e228f31a1d619",
       "version_major": 2,
       "version_minor": 0
      },
      "text/plain": [
       "  0%|          | 0/782 [00:00<?, ?it/s]"
      ]
     },
     "metadata": {},
     "output_type": "display_data"
    },
    {
     "name": "stdout",
     "output_type": "stream",
     "text": [
      "Epoch 60, batch index 0 || train loss: 2.4598305225372314, train acc: 14.0625\n",
      "Epoch 60, batch index 100 || train loss: 2.467935880812088, train acc: 10.009282178217822\n",
      "Epoch 60, batch index 200 || train loss: 2.463297350489678, train acc: 10.043532338308458\n",
      "Epoch 60, batch index 300 || train loss: 2.461376505436691, train acc: 10.200373754152825\n",
      "Epoch 60, batch index 400 || train loss: 2.4589309829131625, train acc: 10.337437655860349\n",
      "Epoch 60, batch index 500 || train loss: 2.4597092555192654, train acc: 10.195234530938123\n",
      "Epoch 60, batch index 600 || train loss: 2.4630394989559536, train acc: 10.121152246256239\n",
      "Epoch 60, batch index 700 || train loss: 2.4631205554015287, train acc: 10.052603423680457\n"
     ]
    },
    {
     "data": {
      "application/vnd.jupyter.widget-view+json": {
       "model_id": "1fa79c502cb14883a56b986c5c76d40e",
       "version_major": 2,
       "version_minor": 0
      },
      "text/plain": [
       "  0%|          | 0/157 [00:00<?, ?it/s]"
      ]
     },
     "metadata": {},
     "output_type": "display_data"
    },
    {
     "name": "stdout",
     "output_type": "stream",
     "text": [
      "Epoch 60 val loss: 385.68193, test acc: 9.95223\n"
     ]
    },
    {
     "data": {
      "application/vnd.jupyter.widget-view+json": {
       "model_id": "958cada0f3684cc5970b57cae100c419",
       "version_major": 2,
       "version_minor": 0
      },
      "text/plain": [
       "  0%|          | 0/782 [00:00<?, ?it/s]"
      ]
     },
     "metadata": {},
     "output_type": "display_data"
    },
    {
     "name": "stdout",
     "output_type": "stream",
     "text": [
      "Epoch 61, batch index 0 || train loss: 2.5657424926757812, train acc: 9.375\n",
      "Epoch 61, batch index 100 || train loss: 2.4733602977035067, train acc: 9.668935643564357\n",
      "Epoch 61, batch index 200 || train loss: 2.4648354207698384, train acc: 9.849191542288557\n",
      "Epoch 61, batch index 300 || train loss: 2.4621940791804926, train acc: 9.894102990033222\n",
      "Epoch 61, batch index 400 || train loss: 2.4623077754070635, train acc: 9.959476309226932\n",
      "Epoch 61, batch index 500 || train loss: 2.461636371955186, train acc: 9.961327345309382\n",
      "Epoch 61, batch index 600 || train loss: 2.4615437425115143, train acc: 9.936564059900167\n",
      "Epoch 61, batch index 700 || train loss: 2.4629270105321126, train acc: 9.954529243937232\n"
     ]
    },
    {
     "data": {
      "application/vnd.jupyter.widget-view+json": {
       "model_id": "b4967c0ba5f44d919d15d0d18ca98677",
       "version_major": 2,
       "version_minor": 0
      },
      "text/plain": [
       "  0%|          | 0/157 [00:00<?, ?it/s]"
      ]
     },
     "metadata": {},
     "output_type": "display_data"
    },
    {
     "name": "stdout",
     "output_type": "stream",
     "text": [
      "Epoch 61 val loss: 385.68193, test acc: 9.95223\n"
     ]
    },
    {
     "data": {
      "application/vnd.jupyter.widget-view+json": {
       "model_id": "77e9f6e11ff2483081ae52663637eadf",
       "version_major": 2,
       "version_minor": 0
      },
      "text/plain": [
       "  0%|          | 0/782 [00:00<?, ?it/s]"
      ]
     },
     "metadata": {},
     "output_type": "display_data"
    },
    {
     "name": "stdout",
     "output_type": "stream",
     "text": [
      "Epoch 62, batch index 0 || train loss: 2.4176464080810547, train acc: 10.9375\n",
      "Epoch 62, batch index 100 || train loss: 2.449186381727162, train acc: 10.241336633663366\n",
      "Epoch 62, batch index 200 || train loss: 2.452469519714811, train acc: 10.237873134328359\n",
      "Epoch 62, batch index 300 || train loss: 2.4589478129960374, train acc: 9.992732558139535\n",
      "Epoch 62, batch index 400 || train loss: 2.4609657891670667, train acc: 10.021820448877806\n",
      "Epoch 62, batch index 500 || train loss: 2.464157511374194, train acc: 9.99563373253493\n",
      "Epoch 62, batch index 600 || train loss: 2.4618357283105072, train acc: 10.089954242928453\n",
      "Epoch 62, batch index 700 || train loss: 2.4622956927594717, train acc: 10.065977175463624\n"
     ]
    },
    {
     "data": {
      "application/vnd.jupyter.widget-view+json": {
       "model_id": "7c42c5dbf20f4dbcbdd9c215c05f92fb",
       "version_major": 2,
       "version_minor": 0
      },
      "text/plain": [
       "  0%|          | 0/157 [00:00<?, ?it/s]"
      ]
     },
     "metadata": {},
     "output_type": "display_data"
    },
    {
     "name": "stdout",
     "output_type": "stream",
     "text": [
      "Epoch 62 val loss: 385.68193, test acc: 9.95223\n"
     ]
    },
    {
     "data": {
      "application/vnd.jupyter.widget-view+json": {
       "model_id": "ead816045fb046179cd7caf990650738",
       "version_major": 2,
       "version_minor": 0
      },
      "text/plain": [
       "  0%|          | 0/782 [00:00<?, ?it/s]"
      ]
     },
     "metadata": {},
     "output_type": "display_data"
    },
    {
     "name": "stdout",
     "output_type": "stream",
     "text": [
      "Epoch 63, batch index 0 || train loss: 2.470952272415161, train acc: 9.375\n",
      "Epoch 63, batch index 100 || train loss: 2.4670860413277502, train acc: 9.282178217821782\n",
      "Epoch 63, batch index 200 || train loss: 2.4616968524989797, train acc: 9.444962686567164\n",
      "Epoch 63, batch index 300 || train loss: 2.461518438155469, train acc: 9.577450166112957\n",
      "Epoch 63, batch index 400 || train loss: 2.4632257588783704, train acc: 9.682824189526185\n",
      "Epoch 63, batch index 500 || train loss: 2.4625837522114584, train acc: 9.70870758483034\n",
      "Epoch 63, batch index 600 || train loss: 2.4624857402680917, train acc: 9.923564891846922\n",
      "Epoch 63, batch index 700 || train loss: 2.4621734442282337, train acc: 9.983505706134094\n"
     ]
    },
    {
     "data": {
      "application/vnd.jupyter.widget-view+json": {
       "model_id": "adb85a3d9eef4c45b3b27152d1a31c66",
       "version_major": 2,
       "version_minor": 0
      },
      "text/plain": [
       "  0%|          | 0/157 [00:00<?, ?it/s]"
      ]
     },
     "metadata": {},
     "output_type": "display_data"
    },
    {
     "name": "stdout",
     "output_type": "stream",
     "text": [
      "Epoch 63 val loss: 385.68193, test acc: 9.95223\n"
     ]
    },
    {
     "data": {
      "application/vnd.jupyter.widget-view+json": {
       "model_id": "6947a399b1804ae2a60c5a08a0e641b9",
       "version_major": 2,
       "version_minor": 0
      },
      "text/plain": [
       "  0%|          | 0/782 [00:00<?, ?it/s]"
      ]
     },
     "metadata": {},
     "output_type": "display_data"
    },
    {
     "name": "stdout",
     "output_type": "stream",
     "text": [
      "Epoch 64, batch index 0 || train loss: 2.5579607486724854, train acc: 7.8125\n",
      "Epoch 64, batch index 100 || train loss: 2.476390522305328, train acc: 9.127475247524753\n",
      "Epoch 64, batch index 200 || train loss: 2.46479570806323, train acc: 9.787002487562189\n",
      "Epoch 64, batch index 300 || train loss: 2.462424711531579, train acc: 9.987541528239202\n",
      "Epoch 64, batch index 400 || train loss: 2.4617814785821777, train acc: 10.107543640897756\n",
      "Epoch 64, batch index 500 || train loss: 2.4630569583641555, train acc: 10.067365269461078\n",
      "Epoch 64, batch index 600 || train loss: 2.4637888759225857, train acc: 10.02495840266223\n",
      "Epoch 64, batch index 700 || train loss: 2.463454100612907, train acc: 10.010253209700428\n"
     ]
    },
    {
     "data": {
      "application/vnd.jupyter.widget-view+json": {
       "model_id": "9aeac085ef2a40f88a0486bf380d35d4",
       "version_major": 2,
       "version_minor": 0
      },
      "text/plain": [
       "  0%|          | 0/157 [00:00<?, ?it/s]"
      ]
     },
     "metadata": {},
     "output_type": "display_data"
    },
    {
     "name": "stdout",
     "output_type": "stream",
     "text": [
      "Epoch 64 val loss: 385.68193, test acc: 9.95223\n"
     ]
    },
    {
     "data": {
      "application/vnd.jupyter.widget-view+json": {
       "model_id": "bbe73a1b0906481299e437d77145e69b",
       "version_major": 2,
       "version_minor": 0
      },
      "text/plain": [
       "  0%|          | 0/782 [00:00<?, ?it/s]"
      ]
     },
     "metadata": {},
     "output_type": "display_data"
    },
    {
     "name": "stdout",
     "output_type": "stream",
     "text": [
      "Epoch 65, batch index 0 || train loss: 2.496778726577759, train acc: 4.6875\n",
      "Epoch 65, batch index 100 || train loss: 2.460041872345575, train acc: 10.133044554455445\n",
      "Epoch 65, batch index 200 || train loss: 2.4623192103941047, train acc: 9.958022388059701\n",
      "Epoch 65, batch index 300 || train loss: 2.4659828569405895, train acc: 9.8421926910299\n",
      "Epoch 65, batch index 400 || train loss: 2.4644217247380285, train acc: 9.80751246882793\n",
      "Epoch 65, batch index 500 || train loss: 2.4636305758577146, train acc: 9.824101796407186\n",
      "Epoch 65, batch index 600 || train loss: 2.463226029162796, train acc: 9.824771214642263\n",
      "Epoch 65, batch index 700 || train loss: 2.462616734769987, train acc: 9.903263195435093\n"
     ]
    },
    {
     "data": {
      "application/vnd.jupyter.widget-view+json": {
       "model_id": "942b322100ec4d86a01c7b273b6f65ca",
       "version_major": 2,
       "version_minor": 0
      },
      "text/plain": [
       "  0%|          | 0/157 [00:00<?, ?it/s]"
      ]
     },
     "metadata": {},
     "output_type": "display_data"
    },
    {
     "name": "stdout",
     "output_type": "stream",
     "text": [
      "Epoch 65 val loss: 385.68193, test acc: 9.95223\n"
     ]
    },
    {
     "data": {
      "application/vnd.jupyter.widget-view+json": {
       "model_id": "40b1a92e842e44c3b76c5a3e0d343c30",
       "version_major": 2,
       "version_minor": 0
      },
      "text/plain": [
       "  0%|          | 0/782 [00:00<?, ?it/s]"
      ]
     },
     "metadata": {},
     "output_type": "display_data"
    },
    {
     "name": "stdout",
     "output_type": "stream",
     "text": [
      "Epoch 66, batch index 0 || train loss: 2.5836055278778076, train acc: 1.5625\n",
      "Epoch 66, batch index 100 || train loss: 2.463563631076624, train acc: 10.179455445544555\n",
      "Epoch 66, batch index 200 || train loss: 2.469618307417305, train acc: 9.7636815920398\n",
      "Epoch 66, batch index 300 || train loss: 2.4670547250893424, train acc: 9.961586378737541\n",
      "Epoch 66, batch index 400 || train loss: 2.4679795988182773, train acc: 9.88544264339152\n",
      "Epoch 66, batch index 500 || train loss: 2.465074719069247, train acc: 10.03929640718563\n",
      "Epoch 66, batch index 600 || train loss: 2.464103608282156, train acc: 10.053556572379367\n",
      "Epoch 66, batch index 700 || train loss: 2.46357659504519, train acc: 10.063748216833096\n"
     ]
    },
    {
     "data": {
      "application/vnd.jupyter.widget-view+json": {
       "model_id": "59af0819678c4b97abcf82d6b37d13e8",
       "version_major": 2,
       "version_minor": 0
      },
      "text/plain": [
       "  0%|          | 0/157 [00:00<?, ?it/s]"
      ]
     },
     "metadata": {},
     "output_type": "display_data"
    },
    {
     "name": "stdout",
     "output_type": "stream",
     "text": [
      "Epoch 66 val loss: 385.68193, test acc: 9.95223\n"
     ]
    },
    {
     "data": {
      "application/vnd.jupyter.widget-view+json": {
       "model_id": "a59027b62bed41f9ae00b47340cca796",
       "version_major": 2,
       "version_minor": 0
      },
      "text/plain": [
       "  0%|          | 0/782 [00:00<?, ?it/s]"
      ]
     },
     "metadata": {},
     "output_type": "display_data"
    },
    {
     "name": "stdout",
     "output_type": "stream",
     "text": [
      "Epoch 67, batch index 0 || train loss: 2.505544900894165, train acc: 4.6875\n",
      "Epoch 67, batch index 100 || train loss: 2.452574614251014, train acc: 10.024752475247524\n",
      "Epoch 67, batch index 200 || train loss: 2.458097049845985, train acc: 10.113495024875622\n",
      "Epoch 67, batch index 300 || train loss: 2.4599390742786698, train acc: 10.091362126245848\n",
      "Epoch 67, batch index 400 || train loss: 2.4593053214865135, train acc: 10.025716957605985\n",
      "Epoch 67, batch index 500 || train loss: 2.458924898368394, train acc: 10.064246506986027\n",
      "Epoch 67, batch index 600 || train loss: 2.4586745724701844, train acc: 10.157549916805324\n",
      "Epoch 67, batch index 700 || train loss: 2.4596563429703218, train acc: 10.037000713266762\n"
     ]
    },
    {
     "data": {
      "application/vnd.jupyter.widget-view+json": {
       "model_id": "daa68ae7b60746949a027fcd2c429484",
       "version_major": 2,
       "version_minor": 0
      },
      "text/plain": [
       "  0%|          | 0/157 [00:00<?, ?it/s]"
      ]
     },
     "metadata": {},
     "output_type": "display_data"
    },
    {
     "name": "stdout",
     "output_type": "stream",
     "text": [
      "Epoch 67 val loss: 385.68193, test acc: 9.95223\n"
     ]
    },
    {
     "data": {
      "application/vnd.jupyter.widget-view+json": {
       "model_id": "a779f138e51d4fbd9f5b9b4a4d2c311b",
       "version_major": 2,
       "version_minor": 0
      },
      "text/plain": [
       "  0%|          | 0/782 [00:00<?, ?it/s]"
      ]
     },
     "metadata": {},
     "output_type": "display_data"
    },
    {
     "name": "stdout",
     "output_type": "stream",
     "text": [
      "Epoch 68, batch index 0 || train loss: 2.5003068447113037, train acc: 7.8125\n",
      "Epoch 68, batch index 100 || train loss: 2.4668471081422108, train acc: 10.055693069306932\n",
      "Epoch 68, batch index 200 || train loss: 2.465846434161438, train acc: 9.880286069651742\n",
      "Epoch 68, batch index 300 || train loss: 2.468452890846024, train acc: 9.743563122923588\n",
      "Epoch 68, batch index 400 || train loss: 2.4652734837329895, train acc: 9.928304239401497\n",
      "Epoch 68, batch index 500 || train loss: 2.4623034600012317, train acc: 10.107909181636726\n",
      "Epoch 68, batch index 600 || train loss: 2.461522486761287, train acc: 10.17054908485857\n",
      "Epoch 68, batch index 700 || train loss: 2.4621567668316198, train acc: 10.115014265335235\n"
     ]
    },
    {
     "data": {
      "application/vnd.jupyter.widget-view+json": {
       "model_id": "35d99da061c64befad41320e5b03aafb",
       "version_major": 2,
       "version_minor": 0
      },
      "text/plain": [
       "  0%|          | 0/157 [00:00<?, ?it/s]"
      ]
     },
     "metadata": {},
     "output_type": "display_data"
    },
    {
     "name": "stdout",
     "output_type": "stream",
     "text": [
      "Epoch 68 val loss: 385.68193, test acc: 9.95223\n"
     ]
    },
    {
     "data": {
      "application/vnd.jupyter.widget-view+json": {
       "model_id": "4b594a7705944aee88d803c758fce9e6",
       "version_major": 2,
       "version_minor": 0
      },
      "text/plain": [
       "  0%|          | 0/782 [00:00<?, ?it/s]"
      ]
     },
     "metadata": {},
     "output_type": "display_data"
    },
    {
     "name": "stdout",
     "output_type": "stream",
     "text": [
      "Epoch 69, batch index 0 || train loss: 2.426579236984253, train acc: 7.8125\n",
      "Epoch 69, batch index 100 || train loss: 2.458084410960131, train acc: 9.746287128712872\n",
      "Epoch 69, batch index 200 || train loss: 2.4647535838891024, train acc: 9.748134328358208\n",
      "Epoch 69, batch index 300 || train loss: 2.463068587439401, train acc: 9.894102990033222\n",
      "Epoch 69, batch index 400 || train loss: 2.462269363260626, train acc: 9.955579800498754\n",
      "Epoch 69, batch index 500 || train loss: 2.462881820168562, train acc: 9.870883233532934\n",
      "Epoch 69, batch index 600 || train loss: 2.4645496569139986, train acc: 9.894966722129784\n",
      "Epoch 69, batch index 700 || train loss: 2.4636060232442727, train acc: 9.95675820256776\n"
     ]
    },
    {
     "data": {
      "application/vnd.jupyter.widget-view+json": {
       "model_id": "bc1e9407ac77473cb92f80781b183e73",
       "version_major": 2,
       "version_minor": 0
      },
      "text/plain": [
       "  0%|          | 0/157 [00:00<?, ?it/s]"
      ]
     },
     "metadata": {},
     "output_type": "display_data"
    },
    {
     "name": "stdout",
     "output_type": "stream",
     "text": [
      "Epoch 69 val loss: 385.68193, test acc: 9.95223\n"
     ]
    },
    {
     "data": {
      "application/vnd.jupyter.widget-view+json": {
       "model_id": "e06e6e1cf38b4f53a0069f29bf14ece3",
       "version_major": 2,
       "version_minor": 0
      },
      "text/plain": [
       "  0%|          | 0/782 [00:00<?, ?it/s]"
      ]
     },
     "metadata": {},
     "output_type": "display_data"
    },
    {
     "name": "stdout",
     "output_type": "stream",
     "text": [
      "Epoch 70, batch index 0 || train loss: 2.383749008178711, train acc: 14.0625\n",
      "Epoch 70, batch index 100 || train loss: 2.444106928192743, train acc: 10.287747524752476\n",
      "Epoch 70, batch index 200 || train loss: 2.45321503088842, train acc: 10.230099502487562\n",
      "Epoch 70, batch index 300 || train loss: 2.45683677647993, train acc: 10.179609634551495\n",
      "Epoch 70, batch index 400 || train loss: 2.459930468081239, train acc: 10.123129675810473\n",
      "Epoch 70, batch index 500 || train loss: 2.462781335065465, train acc: 10.03929640718563\n",
      "Epoch 70, batch index 600 || train loss: 2.463092931693485, train acc: 10.006759567387688\n",
      "Epoch 70, batch index 700 || train loss: 2.4632910035986364, train acc: 9.996879457917261\n"
     ]
    },
    {
     "data": {
      "application/vnd.jupyter.widget-view+json": {
       "model_id": "23cd530b6168420c8f84da392521fc05",
       "version_major": 2,
       "version_minor": 0
      },
      "text/plain": [
       "  0%|          | 0/157 [00:00<?, ?it/s]"
      ]
     },
     "metadata": {},
     "output_type": "display_data"
    },
    {
     "name": "stdout",
     "output_type": "stream",
     "text": [
      "Epoch 70 val loss: 385.68193, test acc: 9.95223\n"
     ]
    },
    {
     "data": {
      "application/vnd.jupyter.widget-view+json": {
       "model_id": "c97601b863124dc7b046a5003df721e9",
       "version_major": 2,
       "version_minor": 0
      },
      "text/plain": [
       "  0%|          | 0/782 [00:00<?, ?it/s]"
      ]
     },
     "metadata": {},
     "output_type": "display_data"
    },
    {
     "name": "stdout",
     "output_type": "stream",
     "text": [
      "Epoch 71, batch index 0 || train loss: 2.372596502304077, train acc: 12.5\n",
      "Epoch 71, batch index 100 || train loss: 2.4565592850788986, train acc: 9.962871287128714\n",
      "Epoch 71, batch index 200 || train loss: 2.4618895042001903, train acc: 9.849191542288557\n",
      "Epoch 71, batch index 300 || train loss: 2.4613858599995457, train acc: 9.956395348837209\n",
      "Epoch 71, batch index 400 || train loss: 2.4625362808864906, train acc: 9.963372817955113\n",
      "Epoch 71, batch index 500 || train loss: 2.463959451683029, train acc: 9.973802395209582\n",
      "Epoch 71, batch index 600 || train loss: 2.464432787776192, train acc: 9.915765391014975\n",
      "Epoch 71, batch index 700 || train loss: 2.4624682482911244, train acc: 9.914407988587731\n"
     ]
    },
    {
     "data": {
      "application/vnd.jupyter.widget-view+json": {
       "model_id": "5b20916842ec4e73a453f1e7295aea6e",
       "version_major": 2,
       "version_minor": 0
      },
      "text/plain": [
       "  0%|          | 0/157 [00:00<?, ?it/s]"
      ]
     },
     "metadata": {},
     "output_type": "display_data"
    },
    {
     "name": "stdout",
     "output_type": "stream",
     "text": [
      "Epoch 71 val loss: 385.68193, test acc: 9.95223\n"
     ]
    },
    {
     "data": {
      "application/vnd.jupyter.widget-view+json": {
       "model_id": "fe68171d204c478c9682fa0104ef921c",
       "version_major": 2,
       "version_minor": 0
      },
      "text/plain": [
       "  0%|          | 0/782 [00:00<?, ?it/s]"
      ]
     },
     "metadata": {},
     "output_type": "display_data"
    },
    {
     "name": "stdout",
     "output_type": "stream",
     "text": [
      "Epoch 72, batch index 0 || train loss: 2.420977830886841, train acc: 12.5\n",
      "Epoch 72, batch index 100 || train loss: 2.4644853714669104, train acc: 10.10210396039604\n",
      "Epoch 72, batch index 200 || train loss: 2.4590715851949816, train acc: 10.338930348258707\n",
      "Epoch 72, batch index 300 || train loss: 2.458956335866174, train acc: 10.189991694352159\n",
      "Epoch 72, batch index 400 || train loss: 2.4610597891105974, train acc: 10.06857855361596\n",
      "Epoch 72, batch index 500 || train loss: 2.4613021357568674, train acc: 10.017465069860279\n",
      "Epoch 72, batch index 600 || train loss: 2.4620566455377717, train acc: 10.00155990016639\n",
      "Epoch 72, batch index 700 || train loss: 2.4619988333991865, train acc: 9.97904778887304\n"
     ]
    },
    {
     "data": {
      "application/vnd.jupyter.widget-view+json": {
       "model_id": "3141156d0d0f4c42b1c2507f3658542d",
       "version_major": 2,
       "version_minor": 0
      },
      "text/plain": [
       "  0%|          | 0/157 [00:00<?, ?it/s]"
      ]
     },
     "metadata": {},
     "output_type": "display_data"
    },
    {
     "name": "stdout",
     "output_type": "stream",
     "text": [
      "Epoch 72 val loss: 385.68193, test acc: 9.95223\n"
     ]
    },
    {
     "data": {
      "application/vnd.jupyter.widget-view+json": {
       "model_id": "78a90ddd7548483d94d7dd1c4a537c7f",
       "version_major": 2,
       "version_minor": 0
      },
      "text/plain": [
       "  0%|          | 0/782 [00:00<?, ?it/s]"
      ]
     },
     "metadata": {},
     "output_type": "display_data"
    },
    {
     "name": "stdout",
     "output_type": "stream",
     "text": [
      "Epoch 73, batch index 0 || train loss: 2.3518359661102295, train acc: 12.5\n",
      "Epoch 73, batch index 100 || train loss: 2.4507778705936847, train acc: 10.62809405940594\n",
      "Epoch 73, batch index 200 || train loss: 2.4603668563994603, train acc: 10.183457711442786\n",
      "Epoch 73, batch index 300 || train loss: 2.460090378194156, train acc: 9.920058139534884\n",
      "Epoch 73, batch index 400 || train loss: 2.4585354667054746, train acc: 10.115336658354115\n",
      "Epoch 73, batch index 500 || train loss: 2.459715450595239, train acc: 10.082959081836327\n",
      "Epoch 73, batch index 600 || train loss: 2.460331164659954, train acc: 9.967762063227953\n",
      "Epoch 73, batch index 700 || train loss: 2.4623302039338246, train acc: 10.010253209700428\n"
     ]
    },
    {
     "data": {
      "application/vnd.jupyter.widget-view+json": {
       "model_id": "6be0ea96ef7d4a6aaf15664731828dbc",
       "version_major": 2,
       "version_minor": 0
      },
      "text/plain": [
       "  0%|          | 0/157 [00:00<?, ?it/s]"
      ]
     },
     "metadata": {},
     "output_type": "display_data"
    },
    {
     "name": "stdout",
     "output_type": "stream",
     "text": [
      "Epoch 73 val loss: 385.68193, test acc: 9.95223\n"
     ]
    },
    {
     "data": {
      "application/vnd.jupyter.widget-view+json": {
       "model_id": "9d0db826416a488486b63b0c47e74686",
       "version_major": 2,
       "version_minor": 0
      },
      "text/plain": [
       "  0%|          | 0/782 [00:00<?, ?it/s]"
      ]
     },
     "metadata": {},
     "output_type": "display_data"
    },
    {
     "name": "stdout",
     "output_type": "stream",
     "text": [
      "Epoch 74, batch index 0 || train loss: 2.3584213256835938, train acc: 15.625\n",
      "Epoch 74, batch index 100 || train loss: 2.4576286585024087, train acc: 10.225866336633663\n",
      "Epoch 74, batch index 200 || train loss: 2.4603825955841674, train acc: 10.21455223880597\n",
      "Epoch 74, batch index 300 || train loss: 2.465627037409532, train acc: 9.862956810631228\n",
      "Epoch 74, batch index 400 || train loss: 2.4623716448310606, train acc: 9.951683291770573\n",
      "Epoch 74, batch index 500 || train loss: 2.464117057309179, train acc: 9.914545908183634\n",
      "Epoch 74, batch index 600 || train loss: 2.463496573554498, train acc: 9.881967554076539\n",
      "Epoch 74, batch index 700 || train loss: 2.4631687101726016, train acc: 9.95675820256776\n"
     ]
    },
    {
     "data": {
      "application/vnd.jupyter.widget-view+json": {
       "model_id": "5a7eda1e904b4d28b4b1e2d77f29a3f6",
       "version_major": 2,
       "version_minor": 0
      },
      "text/plain": [
       "  0%|          | 0/157 [00:00<?, ?it/s]"
      ]
     },
     "metadata": {},
     "output_type": "display_data"
    },
    {
     "name": "stdout",
     "output_type": "stream",
     "text": [
      "Epoch 74 val loss: 385.68193, test acc: 9.95223\n"
     ]
    },
    {
     "data": {
      "application/vnd.jupyter.widget-view+json": {
       "model_id": "e03ceee274a64dd8bb2bac89f73a71bd",
       "version_major": 2,
       "version_minor": 0
      },
      "text/plain": [
       "  0%|          | 0/782 [00:00<?, ?it/s]"
      ]
     },
     "metadata": {},
     "output_type": "display_data"
    },
    {
     "name": "stdout",
     "output_type": "stream",
     "text": [
      "Epoch 75, batch index 0 || train loss: 2.3677937984466553, train acc: 14.0625\n",
      "Epoch 75, batch index 100 || train loss: 2.446972091599266, train acc: 10.334158415841584\n",
      "Epoch 75, batch index 200 || train loss: 2.4515657104662996, train acc: 10.25342039800995\n",
      "Epoch 75, batch index 300 || train loss: 2.45441882950919, train acc: 10.184800664451828\n",
      "Epoch 75, batch index 400 || train loss: 2.4591888346874207, train acc: 10.002337905236908\n",
      "Epoch 75, batch index 500 || train loss: 2.4597598759238117, train acc: 10.03305888223553\n",
      "Epoch 75, batch index 600 || train loss: 2.4616698671299684, train acc: 9.933964226289518\n",
      "Epoch 75, batch index 700 || train loss: 2.462430833239698, train acc: 9.958987161198289\n"
     ]
    },
    {
     "data": {
      "application/vnd.jupyter.widget-view+json": {
       "model_id": "d8d33788c34a48bb8d50d5fa4449e460",
       "version_major": 2,
       "version_minor": 0
      },
      "text/plain": [
       "  0%|          | 0/157 [00:00<?, ?it/s]"
      ]
     },
     "metadata": {},
     "output_type": "display_data"
    },
    {
     "name": "stdout",
     "output_type": "stream",
     "text": [
      "Epoch 75 val loss: 385.68193, test acc: 9.95223\n"
     ]
    },
    {
     "data": {
      "application/vnd.jupyter.widget-view+json": {
       "model_id": "312fdafa784c453f871f614b0549b66c",
       "version_major": 2,
       "version_minor": 0
      },
      "text/plain": [
       "  0%|          | 0/782 [00:00<?, ?it/s]"
      ]
     },
     "metadata": {},
     "output_type": "display_data"
    },
    {
     "name": "stdout",
     "output_type": "stream",
     "text": [
      "Epoch 76, batch index 0 || train loss: 2.554163932800293, train acc: 6.25\n",
      "Epoch 76, batch index 100 || train loss: 2.4680581399709873, train acc: 9.993811881188119\n",
      "Epoch 76, batch index 200 || train loss: 2.4663060233367617, train acc: 10.121268656716419\n",
      "Epoch 76, batch index 300 || train loss: 2.4651287235690904, train acc: 9.925249169435215\n",
      "Epoch 76, batch index 400 || train loss: 2.464227882703938, train acc: 9.877649625935161\n",
      "Epoch 76, batch index 500 || train loss: 2.4623403173244878, train acc: 10.058008982035927\n",
      "Epoch 76, batch index 600 || train loss: 2.462649466392403, train acc: 9.99896006655574\n",
      "Epoch 76, batch index 700 || train loss: 2.462073977425503, train acc: 10.012482168330957\n"
     ]
    },
    {
     "data": {
      "application/vnd.jupyter.widget-view+json": {
       "model_id": "8dc03c2042bf44528368cb890f569197",
       "version_major": 2,
       "version_minor": 0
      },
      "text/plain": [
       "  0%|          | 0/157 [00:00<?, ?it/s]"
      ]
     },
     "metadata": {},
     "output_type": "display_data"
    },
    {
     "name": "stdout",
     "output_type": "stream",
     "text": [
      "Epoch 76 val loss: 385.68193, test acc: 9.95223\n"
     ]
    },
    {
     "data": {
      "application/vnd.jupyter.widget-view+json": {
       "model_id": "4ffba1ad63e84b58a4b91508ec9ac278",
       "version_major": 2,
       "version_minor": 0
      },
      "text/plain": [
       "  0%|          | 0/782 [00:00<?, ?it/s]"
      ]
     },
     "metadata": {},
     "output_type": "display_data"
    },
    {
     "name": "stdout",
     "output_type": "stream",
     "text": [
      "Epoch 77, batch index 0 || train loss: 2.401890754699707, train acc: 12.5\n",
      "Epoch 77, batch index 100 || train loss: 2.468749232811503, train acc: 9.947400990099009\n",
      "Epoch 77, batch index 200 || train loss: 2.4618218846582063, train acc: 10.17568407960199\n",
      "Epoch 77, batch index 300 || train loss: 2.462961808391584, train acc: 10.127699335548172\n",
      "Epoch 77, batch index 400 || train loss: 2.463394030668492, train acc: 10.084164588528678\n",
      "Epoch 77, batch index 500 || train loss: 2.4619303986935797, train acc: 10.117265469061877\n",
      "Epoch 77, batch index 600 || train loss: 2.4613022958974473, train acc: 10.040557404326123\n",
      "Epoch 77, batch index 700 || train loss: 2.4604095868479336, train acc: 9.990192582025678\n"
     ]
    },
    {
     "data": {
      "application/vnd.jupyter.widget-view+json": {
       "model_id": "e457b25ab5e34367b0af6cd3b3730b9d",
       "version_major": 2,
       "version_minor": 0
      },
      "text/plain": [
       "  0%|          | 0/157 [00:00<?, ?it/s]"
      ]
     },
     "metadata": {},
     "output_type": "display_data"
    },
    {
     "name": "stdout",
     "output_type": "stream",
     "text": [
      "Epoch 77 val loss: 385.68193, test acc: 9.95223\n"
     ]
    },
    {
     "data": {
      "application/vnd.jupyter.widget-view+json": {
       "model_id": "7eec24b2ac3b4f22b3212bcfc43cf2dd",
       "version_major": 2,
       "version_minor": 0
      },
      "text/plain": [
       "  0%|          | 0/782 [00:00<?, ?it/s]"
      ]
     },
     "metadata": {},
     "output_type": "display_data"
    },
    {
     "name": "stdout",
     "output_type": "stream",
     "text": [
      "Epoch 78, batch index 0 || train loss: 2.5488955974578857, train acc: 6.25\n",
      "Epoch 78, batch index 100 || train loss: 2.460353183274222, train acc: 9.931930693069306\n",
      "Epoch 78, batch index 200 || train loss: 2.457996835756065, train acc: 10.276741293532337\n",
      "Epoch 78, batch index 300 || train loss: 2.4577280548323825, train acc: 10.252284053156146\n",
      "Epoch 78, batch index 400 || train loss: 2.4583611345647873, train acc: 10.212749376558603\n",
      "Epoch 78, batch index 500 || train loss: 2.4592280173729995, train acc: 10.148453093812375\n",
      "Epoch 78, batch index 600 || train loss: 2.4583876025855242, train acc: 10.183548252911814\n",
      "Epoch 78, batch index 700 || train loss: 2.4614372600332306, train acc: 10.081579885877318\n"
     ]
    },
    {
     "data": {
      "application/vnd.jupyter.widget-view+json": {
       "model_id": "1b24f47821b3411d9543b360d0b3e7ad",
       "version_major": 2,
       "version_minor": 0
      },
      "text/plain": [
       "  0%|          | 0/157 [00:00<?, ?it/s]"
      ]
     },
     "metadata": {},
     "output_type": "display_data"
    },
    {
     "name": "stdout",
     "output_type": "stream",
     "text": [
      "Epoch 78 val loss: 385.68193, test acc: 9.95223\n"
     ]
    },
    {
     "data": {
      "application/vnd.jupyter.widget-view+json": {
       "model_id": "3e2c2e4b559649449ac6582c52afae61",
       "version_major": 2,
       "version_minor": 0
      },
      "text/plain": [
       "  0%|          | 0/782 [00:00<?, ?it/s]"
      ]
     },
     "metadata": {},
     "output_type": "display_data"
    },
    {
     "name": "stdout",
     "output_type": "stream",
     "text": [
      "Epoch 79, batch index 0 || train loss: 2.555128335952759, train acc: 10.9375\n",
      "Epoch 79, batch index 100 || train loss: 2.4618383350938853, train acc: 10.334158415841584\n",
      "Epoch 79, batch index 200 || train loss: 2.46373574769319, train acc: 10.13681592039801\n",
      "Epoch 79, batch index 300 || train loss: 2.4637727515642034, train acc: 10.205564784053156\n",
      "Epoch 79, batch index 400 || train loss: 2.461015783343232, train acc: 10.130922693266832\n",
      "Epoch 79, batch index 500 || train loss: 2.4623137510227346, train acc: 9.980039920159681\n",
      "Epoch 79, batch index 600 || train loss: 2.463141933257092, train acc: 9.978161397670549\n",
      "Epoch 79, batch index 700 || train loss: 2.462697769537802, train acc: 9.970131954350927\n"
     ]
    },
    {
     "data": {
      "application/vnd.jupyter.widget-view+json": {
       "model_id": "f1412c9bae65447c9e791cc37278d33e",
       "version_major": 2,
       "version_minor": 0
      },
      "text/plain": [
       "  0%|          | 0/157 [00:00<?, ?it/s]"
      ]
     },
     "metadata": {},
     "output_type": "display_data"
    },
    {
     "name": "stdout",
     "output_type": "stream",
     "text": [
      "Epoch 79 val loss: 385.68193, test acc: 9.95223\n"
     ]
    },
    {
     "data": {
      "application/vnd.jupyter.widget-view+json": {
       "model_id": "5375337674b14dad8830c392ffd4fde9",
       "version_major": 2,
       "version_minor": 0
      },
      "text/plain": [
       "  0%|          | 0/782 [00:00<?, ?it/s]"
      ]
     },
     "metadata": {},
     "output_type": "display_data"
    },
    {
     "name": "stdout",
     "output_type": "stream",
     "text": [
      "Epoch 80, batch index 0 || train loss: 2.4791879653930664, train acc: 10.9375\n",
      "Epoch 80, batch index 100 || train loss: 2.4538115062335932, train acc: 10.51980198019802\n",
      "Epoch 80, batch index 200 || train loss: 2.4588419892894686, train acc: 10.39334577114428\n",
      "Epoch 80, batch index 300 || train loss: 2.4615005369598286, train acc: 10.169227574750831\n",
      "Epoch 80, batch index 400 || train loss: 2.4624000148582934, train acc: 10.06468204488778\n",
      "Epoch 80, batch index 500 || train loss: 2.462053881909795, train acc: 10.03929640718563\n",
      "Epoch 80, batch index 600 || train loss: 2.46322258498625, train acc: 10.00155990016639\n",
      "Epoch 80, batch index 700 || train loss: 2.4644100098058943, train acc: 10.021398002853067\n"
     ]
    },
    {
     "data": {
      "application/vnd.jupyter.widget-view+json": {
       "model_id": "e8e9a09fc54d4c23ab28610776cdf67b",
       "version_major": 2,
       "version_minor": 0
      },
      "text/plain": [
       "  0%|          | 0/157 [00:00<?, ?it/s]"
      ]
     },
     "metadata": {},
     "output_type": "display_data"
    },
    {
     "name": "stdout",
     "output_type": "stream",
     "text": [
      "Epoch 80 val loss: 385.68193, test acc: 9.95223\n"
     ]
    },
    {
     "data": {
      "application/vnd.jupyter.widget-view+json": {
       "model_id": "7ba4557e40674d439a61ed621f19c067",
       "version_major": 2,
       "version_minor": 0
      },
      "text/plain": [
       "  0%|          | 0/782 [00:00<?, ?it/s]"
      ]
     },
     "metadata": {},
     "output_type": "display_data"
    },
    {
     "name": "stdout",
     "output_type": "stream",
     "text": [
      "Epoch 81, batch index 0 || train loss: 2.5219008922576904, train acc: 10.9375\n",
      "Epoch 81, batch index 100 || train loss: 2.460334586625052, train acc: 9.962871287128714\n",
      "Epoch 81, batch index 200 || train loss: 2.456086838423316, train acc: 10.113495024875622\n",
      "Epoch 81, batch index 300 || train loss: 2.4565371722478013, train acc: 10.132890365448505\n",
      "Epoch 81, batch index 400 || train loss: 2.458065564495667, train acc: 10.103647132169575\n",
      "Epoch 81, batch index 500 || train loss: 2.4582870772736753, train acc: 10.151571856287426\n",
      "Epoch 81, batch index 600 || train loss: 2.4595573682356595, train acc: 10.076955074875208\n",
      "Epoch 81, batch index 700 || train loss: 2.4603327885163835, train acc: 9.981276747503566\n"
     ]
    },
    {
     "data": {
      "application/vnd.jupyter.widget-view+json": {
       "model_id": "a220ebd03afb4b5c88781386b0d6c5b9",
       "version_major": 2,
       "version_minor": 0
      },
      "text/plain": [
       "  0%|          | 0/157 [00:00<?, ?it/s]"
      ]
     },
     "metadata": {},
     "output_type": "display_data"
    },
    {
     "name": "stdout",
     "output_type": "stream",
     "text": [
      "Epoch 81 val loss: 385.68193, test acc: 9.95223\n"
     ]
    },
    {
     "data": {
      "application/vnd.jupyter.widget-view+json": {
       "model_id": "e408b795d997429d87473bcd9b15f1e2",
       "version_major": 2,
       "version_minor": 0
      },
      "text/plain": [
       "  0%|          | 0/782 [00:00<?, ?it/s]"
      ]
     },
     "metadata": {},
     "output_type": "display_data"
    },
    {
     "name": "stdout",
     "output_type": "stream",
     "text": [
      "Epoch 82, batch index 0 || train loss: 2.411746025085449, train acc: 10.9375\n",
      "Epoch 82, batch index 100 || train loss: 2.454058562174882, train acc: 10.767326732673267\n",
      "Epoch 82, batch index 200 || train loss: 2.4559385527425737, train acc: 10.572139303482587\n",
      "Epoch 82, batch index 300 || train loss: 2.460435288293021, train acc: 10.288621262458472\n",
      "Epoch 82, batch index 400 || train loss: 2.4629554992304774, train acc: 10.181577306733168\n",
      "Epoch 82, batch index 500 || train loss: 2.46217580517371, train acc: 10.170284431137725\n",
      "Epoch 82, batch index 600 || train loss: 2.461943965584982, train acc: 10.035357737104825\n",
      "Epoch 82, batch index 700 || train loss: 2.463389490878531, train acc: 10.02808487874465\n"
     ]
    },
    {
     "data": {
      "application/vnd.jupyter.widget-view+json": {
       "model_id": "aa29ca5fcf844d38b1e0c9ae0c9dccc1",
       "version_major": 2,
       "version_minor": 0
      },
      "text/plain": [
       "  0%|          | 0/157 [00:00<?, ?it/s]"
      ]
     },
     "metadata": {},
     "output_type": "display_data"
    },
    {
     "name": "stdout",
     "output_type": "stream",
     "text": [
      "Epoch 82 val loss: 385.68193, test acc: 9.95223\n"
     ]
    },
    {
     "data": {
      "application/vnd.jupyter.widget-view+json": {
       "model_id": "2b7974398b2748469b89c57a97159064",
       "version_major": 2,
       "version_minor": 0
      },
      "text/plain": [
       "  0%|          | 0/782 [00:00<?, ?it/s]"
      ]
     },
     "metadata": {},
     "output_type": "display_data"
    },
    {
     "name": "stdout",
     "output_type": "stream",
     "text": [
      "Epoch 83, batch index 0 || train loss: 2.590090751647949, train acc: 7.8125\n",
      "Epoch 83, batch index 100 || train loss: 2.464299265700992, train acc: 10.396039603960396\n",
      "Epoch 83, batch index 200 || train loss: 2.4650454331393266, train acc: 9.965796019900498\n",
      "Epoch 83, batch index 300 || train loss: 2.463137764471314, train acc: 10.080980066445182\n",
      "Epoch 83, batch index 400 || train loss: 2.4617091634327037, train acc: 10.06468204488778\n",
      "Epoch 83, batch index 500 || train loss: 2.462166110912483, train acc: 9.955089820359282\n",
      "Epoch 83, batch index 600 || train loss: 2.4629550063471233, train acc: 9.939163893510816\n",
      "Epoch 83, batch index 700 || train loss: 2.4617426694714903, train acc: 10.023626961483595\n"
     ]
    },
    {
     "data": {
      "application/vnd.jupyter.widget-view+json": {
       "model_id": "b03d8a3dc9e843758076fc23255a5663",
       "version_major": 2,
       "version_minor": 0
      },
      "text/plain": [
       "  0%|          | 0/157 [00:00<?, ?it/s]"
      ]
     },
     "metadata": {},
     "output_type": "display_data"
    },
    {
     "name": "stdout",
     "output_type": "stream",
     "text": [
      "Epoch 83 val loss: 385.68193, test acc: 9.95223\n"
     ]
    },
    {
     "data": {
      "application/vnd.jupyter.widget-view+json": {
       "model_id": "2af22ad5700c43ad91baaad98081d720",
       "version_major": 2,
       "version_minor": 0
      },
      "text/plain": [
       "  0%|          | 0/782 [00:00<?, ?it/s]"
      ]
     },
     "metadata": {},
     "output_type": "display_data"
    },
    {
     "name": "stdout",
     "output_type": "stream",
     "text": [
      "Epoch 84, batch index 0 || train loss: 2.442420482635498, train acc: 9.375\n",
      "Epoch 84, batch index 100 || train loss: 2.4620050085653173, train acc: 10.179455445544555\n",
      "Epoch 84, batch index 200 || train loss: 2.4605283322025886, train acc: 9.818097014925373\n",
      "Epoch 84, batch index 300 || train loss: 2.462612365171363, train acc: 9.930440199335548\n",
      "Epoch 84, batch index 400 || train loss: 2.4623490354961293, train acc: 10.037406483790523\n",
      "Epoch 84, batch index 500 || train loss: 2.4633640505358607, train acc: 10.048652694610778\n",
      "Epoch 84, batch index 600 || train loss: 2.4614202436710553, train acc: 10.165349417637271\n",
      "Epoch 84, batch index 700 || train loss: 2.462563572868641, train acc: 10.06820613409415\n"
     ]
    },
    {
     "data": {
      "application/vnd.jupyter.widget-view+json": {
       "model_id": "e93b137dba7447c5b4ac0d7efb1fff5f",
       "version_major": 2,
       "version_minor": 0
      },
      "text/plain": [
       "  0%|          | 0/157 [00:00<?, ?it/s]"
      ]
     },
     "metadata": {},
     "output_type": "display_data"
    },
    {
     "name": "stdout",
     "output_type": "stream",
     "text": [
      "Epoch 84 val loss: 385.68193, test acc: 9.95223\n"
     ]
    },
    {
     "data": {
      "application/vnd.jupyter.widget-view+json": {
       "model_id": "840830742b6e4526a3ba26c74b715717",
       "version_major": 2,
       "version_minor": 0
      },
      "text/plain": [
       "  0%|          | 0/782 [00:00<?, ?it/s]"
      ]
     },
     "metadata": {},
     "output_type": "display_data"
    },
    {
     "name": "stdout",
     "output_type": "stream",
     "text": [
      "Epoch 85, batch index 0 || train loss: 2.420416831970215, train acc: 10.9375\n",
      "Epoch 85, batch index 100 || train loss: 2.463691199179923, train acc: 10.163985148514852\n",
      "Epoch 85, batch index 200 || train loss: 2.4630960599700016, train acc: 9.973569651741293\n",
      "Epoch 85, batch index 300 || train loss: 2.4619082303538273, train acc: 9.847383720930232\n",
      "Epoch 85, batch index 400 || train loss: 2.463839061836947, train acc: 9.795822942643392\n",
      "Epoch 85, batch index 500 || train loss: 2.4629534542441607, train acc: 9.855289421157684\n",
      "Epoch 85, batch index 600 || train loss: 2.463208031138644, train acc: 9.915765391014975\n",
      "Epoch 85, batch index 700 || train loss: 2.462000992770882, train acc: 9.932239657631955\n"
     ]
    },
    {
     "data": {
      "application/vnd.jupyter.widget-view+json": {
       "model_id": "8f611cdf3500423fb482fa1c468328d2",
       "version_major": 2,
       "version_minor": 0
      },
      "text/plain": [
       "  0%|          | 0/157 [00:00<?, ?it/s]"
      ]
     },
     "metadata": {},
     "output_type": "display_data"
    },
    {
     "name": "stdout",
     "output_type": "stream",
     "text": [
      "Epoch 85 val loss: 385.68193, test acc: 9.95223\n"
     ]
    },
    {
     "data": {
      "application/vnd.jupyter.widget-view+json": {
       "model_id": "f09ba1ff6fcf4a76b8c66b55d844def7",
       "version_major": 2,
       "version_minor": 0
      },
      "text/plain": [
       "  0%|          | 0/782 [00:00<?, ?it/s]"
      ]
     },
     "metadata": {},
     "output_type": "display_data"
    },
    {
     "name": "stdout",
     "output_type": "stream",
     "text": [
      "Epoch 86, batch index 0 || train loss: 2.386270523071289, train acc: 12.5\n",
      "Epoch 86, batch index 100 || train loss: 2.466677960782948, train acc: 10.133044554455445\n",
      "Epoch 86, batch index 200 || train loss: 2.4635151239176887, train acc: 9.934701492537313\n",
      "Epoch 86, batch index 300 || train loss: 2.464698489718263, train acc: 10.018687707641195\n",
      "Epoch 86, batch index 400 || train loss: 2.4652516574336407, train acc: 10.07637157107232\n",
      "Epoch 86, batch index 500 || train loss: 2.4633531884518924, train acc: 10.082959081836327\n",
      "Epoch 86, batch index 600 || train loss: 2.463544060108864, train acc: 10.053556572379367\n",
      "Epoch 86, batch index 700 || train loss: 2.4632388525104387, train acc: 10.097182596291013\n"
     ]
    },
    {
     "data": {
      "application/vnd.jupyter.widget-view+json": {
       "model_id": "eb5d91d9bd7c4c1a85f1174983d5ef29",
       "version_major": 2,
       "version_minor": 0
      },
      "text/plain": [
       "  0%|          | 0/157 [00:00<?, ?it/s]"
      ]
     },
     "metadata": {},
     "output_type": "display_data"
    },
    {
     "name": "stdout",
     "output_type": "stream",
     "text": [
      "Epoch 86 val loss: 385.68193, test acc: 9.95223\n"
     ]
    },
    {
     "data": {
      "application/vnd.jupyter.widget-view+json": {
       "model_id": "adec24b0a9524a5dac2f6e45ed8453b3",
       "version_major": 2,
       "version_minor": 0
      },
      "text/plain": [
       "  0%|          | 0/782 [00:00<?, ?it/s]"
      ]
     },
     "metadata": {},
     "output_type": "display_data"
    },
    {
     "name": "stdout",
     "output_type": "stream",
     "text": [
      "Epoch 87, batch index 0 || train loss: 2.4388186931610107, train acc: 18.75\n",
      "Epoch 87, batch index 100 || train loss: 2.4618716098294398, train acc: 10.504331683168317\n"
     ]
    }
   ],
   "source": [
    "for epoch in range(Config.epochs):\n",
    "\n",
    "    train_loss, train_acc = train(epoch)\n",
    "    test_loss, test_acc = test(epoch)\n",
    "    \n",
    "    scheduler.step()\n",
    "\n",
    "    writer.add_scalar('train/loss', train_loss, epoch)\n",
    "    writer.add_scalar('train/acc', train_acc, epoch)\n",
    "    writer.add_scalar('test/loss', test_loss, epoch)\n",
    "    writer.add_scalar('test/acc', test_acc, epoch)"
   ]
  },
  {
   "cell_type": "code",
   "execution_count": null,
   "id": "e41ade2b",
   "metadata": {},
   "outputs": [],
   "source": []
  }
 ],
 "metadata": {
  "kernelspec": {
   "display_name": "Python 3 (ipykernel)",
   "language": "python",
   "name": "python3"
  },
  "language_info": {
   "codemirror_mode": {
    "name": "ipython",
    "version": 3
   },
   "file_extension": ".py",
   "mimetype": "text/x-python",
   "name": "python",
   "nbconvert_exporter": "python",
   "pygments_lexer": "ipython3",
   "version": "3.10.9"
  }
 },
 "nbformat": 4,
 "nbformat_minor": 5
}
